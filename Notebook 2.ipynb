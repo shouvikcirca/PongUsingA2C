{
 "cells": [
  {
   "cell_type": "code",
   "execution_count": 1,
   "metadata": {},
   "outputs": [],
   "source": [
    "import torch\n",
    "import gym\n",
    "from gym import envs\n",
    "import torch.nn as nn\n",
    "import torch.nn.functional as F\n",
    "import torch.optim as optim\n",
    "import numpy as np\n",
    "from torch.autograd import Variable\n",
    "from torch.distributions import Categorical\n",
    "from torchvision import transforms\n",
    "from torch.utils.tensorboard import SummaryWriter"
   ]
  },
  {
   "cell_type": "code",
   "execution_count": null,
   "metadata": {},
   "outputs": [],
   "source": [
    "lenobs = 100800\n",
    "class ActorCritic(nn.Module):\n",
    "    def __init__(self):\n",
    "        super(ActorCritic, self).__init__()\n",
    "        self.l1 = nn.Linear(lenobs,25)\n",
    "        self.l2 = nn.Linear(25,50)\n",
    "        self.actor_lin1 = nn.Linear(50,2)\n",
    "        self.l3 = nn.Linear(50,25)\n",
    "        self.critic_lin1 = nn.Linear(25,1)\n",
    "\n",
    "    def forward(self,x):\n",
    "        x = F.normalize(x,dim=0)\n",
    "        y = F.relu(self.l1(x))\n",
    "        y = F.normalize(y,dim=0)\n",
    "        y = F.relu(self.l2(y))\n",
    "        y = F.normalize(y,dim=0)\n",
    "#         actor = F.softmax(self.actor_lin1(y),dim=0)\n",
    "        actor = F.log_softmax(self.actor_lin1(y),dim=0)\n",
    "        c = F.relu(self.l3(y.detach()))\n",
    "        critic = torch.tanh(self.critic_lin1(c))\n",
    "        return actor, critic"
   ]
  },
  {
   "cell_type": "code",
   "execution_count": null,
   "metadata": {},
   "outputs": [],
   "source": [
    "tb = SummaryWriter()\n",
    "env = gym.make('PongNoFrameskip-v0')\n",
    "moveMapping = {\n",
    "    0:2,\n",
    "    1:3\n",
    "}\n",
    "\n",
    "model = ActorCritic()\n",
    "optimizer = optim.Adam(lr=1e-4,params=model.parameters())\n",
    "\n",
    "model.train()\n",
    "'''\n",
    "loss = Variable(loss, requires_grad = True)\n",
    "actor_loss = Variable(actor_loss, requires_grad = True)\n",
    "critic_loss = Variable(critic_loss, requires_grad = True)\n",
    "'''\n",
    "\n",
    "for i_episode in range(20000):\n",
    "    print('Epoch {}'.format(i_episode))\n",
    "#     reward = 0.0\n",
    "    values = []\n",
    "    rewards = []\n",
    "    logprobs = []\n",
    "    observation = env.reset()\n",
    "    print('---------------')\n",
    "    done = False\n",
    "    N = 0\n",
    "    while done == False and N<10:\n",
    "        N+=1\n",
    "#         print(t)\n",
    "        pobservation = torch.from_numpy(observation)\n",
    "        flattened_pobservation = pobservation.view(-1).float()\n",
    "        policy, value = model(flattened_pobservation)\n",
    "#         print('Policy:{}'.format(policy))\n",
    "        values.append(value.item())\n",
    "#         print('Values:{}'.format(values))\n",
    "        sampler = Categorical(policy)\n",
    "        action = sampler.sample()\n",
    "#         print(action.item())\n",
    "#         action = np.random.choice(np.array([0,1]), p = policy.view(2,).data.numpy())\n",
    "        logprobs.append(policy[action.item()].item())\n",
    "#         print('Logprobs: {}'.format(logprobs))\n",
    "#         print('Action: {}'.format('right' if action==2 else 'left'))\n",
    "        observation, reward, done, log = env.step(moveMapping[action.item()])\n",
    "#         rewards.append(reward)\n",
    "#         print('rewards: {}'.format(rewards))\n",
    "#         print('---')\n",
    "        if done:\n",
    "            rewards.append(-1.0)\n",
    "        else:\n",
    "            rewards.append(1.0)\n",
    "        \n",
    "      \n",
    "    # Reversing because earlier actions need to be discounted\n",
    "    torch_values = torch.tensor(values, requires_grad = True).view(-1).flip(0)\n",
    "    torch_rewards = torch.tensor(rewards, requires_grad = True).flip(0)\n",
    "    torch_logprobs = torch.tensor(logprobs, requires_grad = True).flip(0)\n",
    "#     print((torch_logprobs<0).sum()/torch_logprobs.shape[0])\n",
    "    \n",
    "\n",
    "    \n",
    "    \n",
    "    returns = []\n",
    "    gamma = 0.90\n",
    "    clc = 0.1\n",
    "    ret = torch.tensor([0])\n",
    "    for r in torch_rewards:\n",
    "        ret = r + gamma*ret\n",
    "        returns.append(ret)\n",
    "    returns = torch.tensor(returns, requires_grad = True)\n",
    "#     print(returns.shape)\n",
    "    returns = F.normalize(returns,dim=0)\n",
    "#     print('returns.mean():{} returns.std():{}'.format(returns.mean(), returns.std()))\n",
    "    actor_loss = -1*torch_logprobs * (returns - torch_values.detach())\n",
    "    critic_loss = torch.pow(torch_values - returns,2)\n",
    "    loss = actor_loss.sum() + clc*critic_loss.sum()\n",
    "    tb.add_scalar('Loss',loss,i_episode)\n",
    "#     print('Loss: {}'.format(loss))\n",
    "#     print('Starting Backpropagation')\n",
    "    optimizer.zero_grad()\n",
    "    loss.backward()\n",
    "    optimizer.step()\n",
    "\n",
    "print('Completed Training')"
   ]
  },
  {
   "cell_type": "code",
   "execution_count": null,
   "metadata": {},
   "outputs": [],
   "source": [
    "import time\n",
    "observation = env.reset()\n",
    "model.eval()\n",
    "done = False\n",
    "a = time.time()\n",
    "while done == False:\n",
    "    pobservation = torch.from_numpy(observation)\n",
    "    flattened_pobservation = pobservation.view(-1).float()\n",
    "    policy, value = model(flattened_pobservation)\n",
    "    sampler = Categorical(policy)\n",
    "    action = sampler.sample()\n",
    "    observation, reward, done, log = env.step(moveMapping[action.item()])\n",
    "    env.render()\n",
    "    \n",
    "if done:\n",
    "    env.close()\n",
    "    \n",
    "b = time.time()-a\n",
    "print(b)"
   ]
  },
  {
   "cell_type": "code",
   "execution_count": null,
   "metadata": {},
   "outputs": [],
   "source": [
    "m1 = ActorCritic()\n",
    "observation = env.reset()\n",
    "import time\n",
    "# observation = env.reset()\n",
    "m1.eval()\n",
    "done = False\n",
    "a = time.time()\n",
    "while done == False:\n",
    "    pobservation = torch.from_numpy(observation)\n",
    "    flattened_pobservation = pobservation.view(-1).float()\n",
    "    policy, value = m1(flattened_pobservation)\n",
    "    sampler = Categorical(policy)\n",
    "    action = sampler.sample()\n",
    "    observation, reward, done, log = env.step(moveMapping[action.item()])\n",
    "    env.render()\n",
    "    \n",
    "if done:\n",
    "    env.close()\n",
    "    \n",
    "b = time.time()-a\n",
    "print(b)"
   ]
  },
  {
   "cell_type": "markdown",
   "metadata": {},
   "source": [
    "Parallelizing training"
   ]
  },
  {
   "cell_type": "code",
   "execution_count": 7,
   "metadata": {},
   "outputs": [],
   "source": [
    "import concurrent.futures\n",
    "import torch\n",
    "import torch.nn as nn\n",
    "import torch.optim as optimizer\n",
    "from torch.distributions import Categorical\n",
    "\n",
    "class mymodel(nn.Module):\n",
    "    def __init__(self):\n",
    "        super(mymodel,self).__init__()\n",
    "        self.weight = nn.Linear(3,2)\n",
    "        \n",
    "    def forward(self, X):\n",
    "        out = self.weight(X)\n",
    "        out = nn.Softmax(dim = 0)(out)\n",
    "        return out\n",
    "\n",
    "    \n",
    "def doTrain(model, X):     \n",
    "    a1 = model()\n",
    "    return list(a1.parameters())\n",
    "\n",
    "X = torch.randn(20,3)\n",
    "\n",
    "\n",
    "updatedParams = []\n",
    "results = []\n",
    "\n",
    "\n",
    "with concurrent.futures.ProcessPoolExecutor() as executor:\n",
    "    for i in range(5):\n",
    "        results.append(executor.submit(doTrain, mymodel, X[i*4:(i+1)*4]))\n",
    "    \n",
    "    for f in concurrent.futures.as_completed(results):\n",
    "        updatedParams.append(f.result())\n",
    "\n",
    "\n",
    "\n"
   ]
  },
  {
   "cell_type": "code",
   "execution_count": null,
   "metadata": {},
   "outputs": [],
   "source": [
    " optim = optimizer.Adam(lr=1e-3, params = a1.parameters())\n",
    "    for i in range(15):\n",
    "        optim.zero_grad()\n",
    "        out = a1(X)\n",
    "        sampler = Categorical(out)\n",
    "        action = sampler.sample()\n",
    "        loss = 0.\n",
    "        for ind in range(action.shape[0]):\n",
    "            loss+=out[ind][action[ind]].item()\n",
    "        loss = torch.tensor(loss, requires_grad= True)\n",
    "        loss.backward()\n",
    "        optim.step()"
   ]
  },
  {
   "cell_type": "code",
   "execution_count": 8,
   "metadata": {},
   "outputs": [
    {
     "data": {
      "text/plain": [
       "[[Parameter containing:\n",
       "  tensor([[ 0.1995,  0.1247, -0.0875],\n",
       "          [-0.2669, -0.3425,  0.3404]], requires_grad=True),\n",
       "  Parameter containing:\n",
       "  tensor([ 0.3416, -0.4114], requires_grad=True)],\n",
       " [Parameter containing:\n",
       "  tensor([[ 0.1995,  0.1247, -0.0875],\n",
       "          [-0.2669, -0.3425,  0.3404]], requires_grad=True),\n",
       "  Parameter containing:\n",
       "  tensor([ 0.3416, -0.4114], requires_grad=True)],\n",
       " [Parameter containing:\n",
       "  tensor([[ 0.1995,  0.1247, -0.0875],\n",
       "          [-0.2669, -0.3425,  0.3404]], requires_grad=True),\n",
       "  Parameter containing:\n",
       "  tensor([ 0.3416, -0.4114], requires_grad=True)],\n",
       " [Parameter containing:\n",
       "  tensor([[ 0.1995,  0.1247, -0.0875],\n",
       "          [-0.2669, -0.3425,  0.3404]], requires_grad=True),\n",
       "  Parameter containing:\n",
       "  tensor([ 0.3416, -0.4114], requires_grad=True)],\n",
       " [Parameter containing:\n",
       "  tensor([[ 0.1995,  0.1247, -0.0875],\n",
       "          [-0.2669, -0.3425,  0.3404]], requires_grad=True),\n",
       "  Parameter containing:\n",
       "  tensor([ 0.3416, -0.4114], requires_grad=True)]]"
      ]
     },
     "execution_count": 8,
     "metadata": {},
     "output_type": "execute_result"
    }
   ],
   "source": [
    "updatedParams"
   ]
  },
  {
   "cell_type": "code",
   "execution_count": null,
   "metadata": {},
   "outputs": [],
   "source": [
    "updatedWts = (updatedParams[0][0]+updatedParams[1][0]+updatedParams[2][0]+updatedParams[3][0]+updatedParams[4][0])/5.\n",
    "updatedBias = (updatedParams[0][1]+updatedParams[1][1]+updatedParams[2][1]+updatedParams[3][1]+updatedParams[4][1])/5.0\n"
   ]
  },
  {
   "cell_type": "code",
   "execution_count": null,
   "metadata": {},
   "outputs": [],
   "source": [
    "updatedWts, updatedBias"
   ]
  },
  {
   "cell_type": "code",
   "execution_count": null,
   "metadata": {},
   "outputs": [],
   "source": []
  },
  {
   "cell_type": "code",
   "execution_count": null,
   "metadata": {},
   "outputs": [],
   "source": []
  },
  {
   "cell_type": "code",
   "execution_count": null,
   "metadata": {},
   "outputs": [],
   "source": []
  },
  {
   "cell_type": "code",
   "execution_count": null,
   "metadata": {},
   "outputs": [],
   "source": [
    "############################ Experimentations ###############################################"
   ]
  },
  {
   "cell_type": "code",
   "execution_count": null,
   "metadata": {},
   "outputs": [],
   "source": [
    "# from torch.distributions import Categorical\n",
    "# a = torch.tensor([20,20,20,20,20]).float()\n",
    "# # Note that this is equivalent to what used to be called multinomial\n",
    "# m = Categorical(a)\n",
    "\n",
    "# li = [0,0,0,0,0]\n",
    "\n",
    "\n",
    "# for i in range(100):\n",
    "#     li[m.sample().item()] +=1\n",
    "    \n",
    "# li"
   ]
  },
  {
   "cell_type": "code",
   "execution_count": null,
   "metadata": {},
   "outputs": [],
   "source": [
    "# a = torch.tensor(3)\n",
    "# a.item()\n"
   ]
  },
  {
   "cell_type": "code",
   "execution_count": null,
   "metadata": {},
   "outputs": [],
   "source": [
    "#############################################################################################"
   ]
  },
  {
   "cell_type": "code",
   "execution_count": null,
   "metadata": {},
   "outputs": [],
   "source": [
    "observation.shape"
   ]
  }
 ],
 "metadata": {
  "kernelspec": {
   "display_name": "Python 3",
   "language": "python",
   "name": "python3"
  },
  "language_info": {
   "codemirror_mode": {
    "name": "ipython",
    "version": 3
   },
   "file_extension": ".py",
   "mimetype": "text/x-python",
   "name": "python",
   "nbconvert_exporter": "python",
   "pygments_lexer": "ipython3",
   "version": "3.6.9"
  }
 },
 "nbformat": 4,
 "nbformat_minor": 2
}
