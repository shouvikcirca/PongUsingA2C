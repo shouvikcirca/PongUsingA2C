{
 "cells": [
  {
   "cell_type": "code",
   "execution_count": 1,
   "metadata": {},
   "outputs": [],
   "source": [
    "import torch\n",
    "import gym\n",
    "from gym import envs\n",
    "import torch.nn as nn\n",
    "import torch.nn.functional as F\n",
    "import torch.optim as optim\n",
    "import numpy as np\n",
    "# from torch.autograd import Variable\n",
    "from torch.distributions import Categorical\n",
    "from torchvision import transforms\n",
    "# from torch.utils.tensorboard import SummaryWriter"
   ]
  },
  {
   "cell_type": "code",
   "execution_count": 2,
   "metadata": {},
   "outputs": [],
   "source": [
    "lenobs = 21190\n",
    "class ActorCritic(nn.Module):\n",
    "    def __init__(self):\n",
    "        super(ActorCritic, self).__init__()\n",
    "        self.l1 = nn.Linear(lenobs,25)\n",
    "        self.l2 = nn.Linear(25,50)\n",
    "        self.actor_lin1 = nn.Linear(50,3)\n",
    "        self.l3 = nn.Linear(50,25)\n",
    "        self.critic_lin1 = nn.Linear(25,1)\n",
    "\n",
    "    def forward(self,x):\n",
    "        x = F.normalize(x,dim=0)\n",
    "        y = F.relu(self.l1(x))\n",
    "        y = F.normalize(y,dim=0)\n",
    "        y = F.relu(self.l2(y))\n",
    "        y = F.normalize(y,dim=0)\n",
    "#         actor = F.softmax(self.actor_lin1(y),dim=0)\n",
    "        actor = F.log_softmax(self.actor_lin1(y),dim=0)\n",
    "        c = F.relu(self.l3(y.detach()))\n",
    "        critic = torch.tanh(self.critic_lin1(c))\n",
    "        return actor, critic"
   ]
  },
  {
   "cell_type": "code",
   "execution_count": 3,
   "metadata": {},
   "outputs": [
    {
     "data": {
      "text/plain": [
       "['NOOP', 'FIRE', 'RIGHT', 'LEFT', 'RIGHTFIRE', 'LEFTFIRE']"
      ]
     },
     "execution_count": 3,
     "metadata": {},
     "output_type": "execute_result"
    }
   ],
   "source": [
    "env = gym.make('Pong-v0')\n",
    "env.unwrapped.get_action_meanings()"
   ]
  },
  {
   "cell_type": "code",
   "execution_count": 5,
   "metadata": {},
   "outputs": [
    {
     "name": "stdout",
     "output_type": "stream",
     "text": [
      "Epoch 0\n",
      "Return: 0.0\n",
      "---------------\n",
      "Epoch 1\n",
      "Return: 0.0\n",
      "---------------\n",
      "Epoch 2\n",
      "Return: 0.0\n",
      "---------------\n",
      "Epoch 3\n",
      "Return: 0.0\n",
      "---------------\n",
      "Epoch 4\n",
      "Return: 0.0\n",
      "---------------\n",
      "Epoch 5\n",
      "Return: 0.0\n",
      "---------------\n",
      "Epoch 6\n",
      "Return: 0.0\n",
      "---------------\n",
      "Epoch 7\n",
      "Return: 0.0\n",
      "---------------\n",
      "Epoch 8\n",
      "Return: 0.0\n",
      "---------------\n",
      "Epoch 9\n",
      "Return: 0.0\n",
      "---------------\n",
      "Completed Training\n"
     ]
    }
   ],
   "source": [
    "# tb = SummaryWriter()\n",
    "# env = gym.make('PongNoFrameskip-v0')\n",
    "env = gym.make('Pong-v0')\n",
    "\n",
    "moveMapping = {\n",
    "    0:0,\n",
    "    1:2,\n",
    "    2:3\n",
    "}\n",
    "\n",
    "# 0 NOOP\n",
    "# 2 RIGHT\n",
    "# 3 LEFT\n",
    "\n",
    "model = ActorCritic()\n",
    "optimizer = optim.Adam(lr=1e-4,params=model.parameters())\n",
    "\n",
    "model.train()\n",
    "\n",
    "\n",
    "for i_episode in range(10):\n",
    "    print('Epoch {}'.format(i_episode))\n",
    "    values = []\n",
    "    rewards = []\n",
    "    logprobs = []\n",
    "    observation = env.reset()\n",
    "    preprocess = transforms.Compose([\n",
    "    transforms.ToPILImage(),\n",
    "    ])\n",
    "    \n",
    "    \n",
    "    done = False\n",
    "    N = 0\n",
    "    while done == False and N<10:\n",
    "        N+=1\n",
    "#         print(t)\n",
    "        pobservation = torch.from_numpy(observation).permute(2,0,1)\n",
    "        cropped_image = transforms.functional.crop(preprocess(pobservation),32,15,163,130)\n",
    "        gs_image = transforms.functional.to_grayscale(cropped_image)\n",
    "        gs_tensor = transforms.ToTensor()(gs_image)\n",
    "    \n",
    "        flattened_pobservation = gs_tensor.view(-1).float()\n",
    "        policy, value = model(flattened_pobservation)\n",
    "#         print('Policy:{}'.format(policy))\n",
    "        values.append(value.item())\n",
    "#         print('Values:{}'.format(values))\n",
    "        sampler = Categorical(policy)\n",
    "        action = sampler.sample()\n",
    "#         print(action.item())\n",
    "#         action = np.random.choice(np.array([0,1]), p = policy.view(2,).data.numpy())\n",
    "        logprobs.append(policy[action.item()].item())\n",
    "#         print('Logprobs: {}'.format(logprobs))\n",
    "#         print('Action: {}'.format('right' if action==2 else 'left'))\n",
    "        \n",
    "        observation, reward, done, log = env.step(moveMapping[action.item()])\n",
    "#         rewards.append(reward)\n",
    "#         print('rewards: {}'.format(rewards))\n",
    "#         print('---')\n",
    "        if done:\n",
    "            rewards.append(1.0)\n",
    "        else:\n",
    "            rewards.append(reward)\n",
    "        \n",
    "      \n",
    "    # Reversing because earlier actions need to be discounted\n",
    "    torch_values = torch.tensor(values, requires_grad = True).view(-1).flip(0)\n",
    "    torch_rewards = torch.tensor(rewards, requires_grad = True).flip(0)\n",
    "    torch_logprobs = torch.tensor(logprobs, requires_grad = True).flip(0)\n",
    "#     print((torch_logprobs<0).sum()/torch_logprobs.shape[0])\n",
    "    \n",
    "\n",
    "    \n",
    "    \n",
    "    returns = []\n",
    "    gamma = 0.90\n",
    "    clc = 0.1\n",
    "    ret = torch.tensor([0])\n",
    "    for r in torch_rewards:\n",
    "        ret = r + gamma*ret\n",
    "        returns.append(ret)\n",
    "    returns = torch.tensor(returns, requires_grad = True)\n",
    "#     print(returns.shape)\n",
    "    returns = F.normalize(returns,dim=0)\n",
    "#     print('returns.mean():{} returns.std():{}'.format(returns.mean(), returns.std()))\n",
    "    actor_loss = -1*torch_logprobs * (returns - torch_values.detach())\n",
    "    critic_loss = torch.pow(torch_values - returns,2)\n",
    "    loss = actor_loss.sum() + clc*critic_loss.sum()\n",
    "#     tb.add_scalar('Loss',loss,i_episode)\n",
    "#     print('Loss: {}'.format(loss))\n",
    "#     print('Starting Backpropagation')\n",
    "    optimizer.zero_grad()\n",
    "    loss.backward()\n",
    "    optimizer.step()\n",
    "    print('Return: {}'.format(returns.sum().item()))\n",
    "    print('---------------')\n",
    "\n",
    "print('Completed Training')"
   ]
  },
  {
   "cell_type": "markdown",
   "metadata": {},
   "source": [
    "Play with trained model"
   ]
  },
  {
   "cell_type": "code",
   "execution_count": 8,
   "metadata": {},
   "outputs": [
    {
     "name": "stdout",
     "output_type": "stream",
     "text": [
      "6.323566198348999\n"
     ]
    }
   ],
   "source": [
    "import time\n",
    "observation = env.reset()\n",
    "model.eval()\n",
    "done = False\n",
    "a = time.time()\n",
    "while done == False:\n",
    "    pobservation = torch.from_numpy(observation).permute(2,0,1)\n",
    "    cropped_image = transforms.functional.crop(preprocess(pobservation),32,15,163,130)\n",
    "    gs_image = transforms.functional.to_grayscale(cropped_image)\n",
    "    gs_tensor = transforms.ToTensor()(gs_image)\n",
    "    flattened_pobservation = gs_tensor.view(-1).float()\n",
    "    policy, value = model(flattened_pobservation)\n",
    "    sampler = Categorical(policy)\n",
    "    action = sampler.sample()\n",
    "    observation, reward, done, log = env.step(moveMapping[action.item()])\n",
    "    env.render()\n",
    "    \n",
    "if done:\n",
    "    env.close()\n",
    "    \n",
    "b = time.time()-a\n",
    "print(b)"
   ]
  },
  {
   "cell_type": "markdown",
   "metadata": {},
   "source": [
    "Play without trained model"
   ]
  },
  {
   "cell_type": "code",
   "execution_count": 9,
   "metadata": {},
   "outputs": [
    {
     "name": "stdout",
     "output_type": "stream",
     "text": [
      "0\n"
     ]
    }
   ],
   "source": [
    "# env = gym.make('PongNoFrameskip-v0')\n",
    "env = gym.make('Pong-v0')\n",
    "\n",
    "# moveMapping = {\n",
    "#     0:2,\n",
    "#     1:3\n",
    "# }\n",
    "\n",
    "m1 = ActorCritic()\n",
    "observation = env.reset()\n",
    "import time\n",
    "# observation = env.reset()\n",
    "m1.eval()\n",
    "done = False\n",
    "a = time.time()\n",
    "count = 0\n",
    "preprocess = transforms.Compose([\n",
    "    transforms.ToPILImage(),\n",
    "])\n",
    "while done == False:\n",
    "    pobservation = torch.from_numpy(observation).permute(2,0,1)\n",
    "    \n",
    "    cropped_image = transforms.functional.crop(preprocess(pobservation),32,15,163,130)\n",
    "    gs_image = transforms.functional.to_grayscale(cropped_image)\n",
    "    gs_tensor = transforms.ToTensor()(gs_image)\n",
    "    \n",
    "    flattened_pobservation = gs_tensor.view(-1).float()\n",
    "    policy, value = m1(flattened_pobservation)\n",
    "    sampler = Categorical(policy)\n",
    "    action = sampler.sample()\n",
    "    observation, reward, done, log = env.step(moveMapping[action.item()])\n",
    "    if reward == 1:\n",
    "        count+=1\n",
    "    env.render()\n",
    "    \n",
    "if done:\n",
    "    env.close()\n",
    "    \n",
    "b = time.time()-a\n",
    "# print(b)\n",
    "print(count)"
   ]
  },
  {
   "cell_type": "code",
   "execution_count": null,
   "metadata": {},
   "outputs": [],
   "source": []
  },
  {
   "cell_type": "code",
   "execution_count": null,
   "metadata": {},
   "outputs": [],
   "source": []
  },
  {
   "cell_type": "code",
   "execution_count": null,
   "metadata": {},
   "outputs": [],
   "source": []
  },
  {
   "cell_type": "code",
   "execution_count": null,
   "metadata": {},
   "outputs": [],
   "source": []
  },
  {
   "cell_type": "code",
   "execution_count": null,
   "metadata": {},
   "outputs": [],
   "source": []
  },
  {
   "cell_type": "code",
   "execution_count": null,
   "metadata": {},
   "outputs": [],
   "source": []
  },
  {
   "cell_type": "code",
   "execution_count": null,
   "metadata": {},
   "outputs": [],
   "source": []
  }
 ],
 "metadata": {
  "kernelspec": {
   "display_name": "Python 3",
   "language": "python",
   "name": "python3"
  },
  "language_info": {
   "codemirror_mode": {
    "name": "ipython",
    "version": 3
   },
   "file_extension": ".py",
   "mimetype": "text/x-python",
   "name": "python",
   "nbconvert_exporter": "python",
   "pygments_lexer": "ipython3",
   "version": "3.5.2"
  }
 },
 "nbformat": 4,
 "nbformat_minor": 2
}
