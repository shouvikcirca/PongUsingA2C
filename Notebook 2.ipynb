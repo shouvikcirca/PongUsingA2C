{
 "cells": [
  {
   "cell_type": "code",
   "execution_count": 1,
   "metadata": {},
   "outputs": [],
   "source": [
    "import torch\n",
    "import gym\n",
    "from gym import envs\n",
    "import torch.nn as nn\n",
    "import torch.nn.functional as F\n",
    "import torch.optim as optim\n",
    "import numpy as np\n",
    "from torch.autograd import Variable"
   ]
  },
  {
   "cell_type": "code",
   "execution_count": 2,
   "metadata": {},
   "outputs": [],
   "source": [
    "lenobs = 100800\n",
    "class ActorCritic(nn.Module):\n",
    "    def __init__(self):\n",
    "        super(ActorCritic, self).__init__()\n",
    "        self.l1 = nn.Linear(lenobs,25)\n",
    "        self.l2 = nn.Linear(25,50)\n",
    "        self.actor_lin1 = nn.Linear(50,2)\n",
    "        self.l3 = nn.Linear(50,25)\n",
    "        self.critic_lin1 = nn.Linear(25,1)\n",
    "\n",
    "    def forward(self,x):\n",
    "        x = F.normalize(x,dim=0)\n",
    "        y = F.relu(self.l1(x))\n",
    "        y = F.relu(self.l2(y))\n",
    "        actor = F.softmax(self.actor_lin1(y),dim=0)\n",
    "#         actor = F.log_softmax(self.actor_lin1(y),dim=0)\n",
    "        c = F.relu(self.l3(y.detach()))\n",
    "        critic = torch.tanh(self.critic_lin1(c))\n",
    "        return actor, critic"
   ]
  },
  {
   "cell_type": "code",
   "execution_count": 4,
   "metadata": {},
   "outputs": [
    {
     "name": "stdout",
     "output_type": "stream",
     "text": [
      "---------------\n",
      "True\n",
      "Episode:0 State:3056 Reward:-1.0\n",
      "Episode finished after 3057 timesteps\n",
      "Loss: -14.934562683105469\n"
     ]
    }
   ],
   "source": [
    "env = gym.make('PongNoFrameskip-v0')\n",
    "moveMapping = {\n",
    "    0:2,\n",
    "    1:3\n",
    "}\n",
    "\n",
    "model = ActorCritic()\n",
    "optimizer = optim.Adam(lr=1e-4,params=model.parameters())\n",
    "\n",
    "'''\n",
    "loss = Variable(loss, requires_grad = True)\n",
    "actor_loss = Variable(actor_loss, requires_grad = True)\n",
    "critic_loss = Variable(critic_loss, requires_grad = True)\n",
    "'''\n",
    "\n",
    "for i_episode in range(1):\n",
    "#     reward = 0.0\n",
    "    values = []\n",
    "    rewards = []\n",
    "    logprobs = []\n",
    "    observation = env.reset()\n",
    "    print('---------------')\n",
    "    done = False\n",
    "    t = 0\n",
    "    while done == False:\n",
    "        t+=1\n",
    "#         print(t)\n",
    "        pobservation = torch.from_numpy(observation)\n",
    "        flattened_pobservation = pobservation.view(-1).float()\n",
    "        policy, value = model(flattened_pobservation)\n",
    "#         print(policy)\n",
    "        values.append(value)\n",
    "        action = np.random.choice(np.array([0,1]), p = policy.view(2,).data.numpy())\n",
    "        logprobs.append(policy.view(-1)[action])\n",
    "#         print('Action: {}'.format('right' if action==2 else 'left'))\n",
    "        observation, reward, done, log = env.step(moveMapping[action])\n",
    "        rewards.append(reward)\n",
    "#         print('{}.Reward: {}'.format(t,reward))\n",
    "#         print('---')\n",
    "        if done:\n",
    "            print(done)\n",
    "            print('Episode:{} State:{} Reward:{}'.format(i_episode,t,reward))\n",
    "            print(\"Episode finished after {} timesteps\".format(t+1))    \n",
    "            break\n",
    "        \n",
    "      \n",
    "    # Reversing because earlier actions have greater value\n",
    "    torch_values = torch.tensor(values, requires_grad = True).view(-1).flip(0)\n",
    "    torch_rewards = torch.tensor(rewards, requires_grad = True).flip(0)\n",
    "    torch_logprobs = torch.tensor(logprobs, requires_grad = True).flip(0)\n",
    "    \n",
    "    \n",
    "    returns = []\n",
    "    gamma = 0.95\n",
    "    clc = 0.1\n",
    "    ret = torch.tensor([0])\n",
    "    for r in torch_rewards:\n",
    "        ret = r + gamma*ret\n",
    "        returns.append(ret)\n",
    "    returns = torch.tensor(returns, requires_grad = True)\n",
    "    returns = F.normalize(returns,dim=0)\n",
    "    actor_loss = -1*torch_logprobs * (returns - torch_values)\n",
    "    critic_loss = torch.pow(torch_values - returns,2)\n",
    "    loss = actor_loss.sum() + clc*critic_loss.sum()\n",
    "    print('Loss: {}'.format(loss))\n",
    "#     print('Starting Backpropagation')\n",
    "    optimizer.zero_grad()\n",
    "    loss.backward()\n",
    "    optimizer.step()\n",
    "#     print('Completed Backpropagation')\n"
   ]
  },
  {
   "cell_type": "code",
   "execution_count": null,
   "metadata": {},
   "outputs": [],
   "source": []
  },
  {
   "cell_type": "code",
   "execution_count": null,
   "metadata": {},
   "outputs": [],
   "source": []
  },
  {
   "cell_type": "code",
   "execution_count": 3,
   "metadata": {},
   "outputs": [],
   "source": [
    "import torch\n",
    "from multiprocessing import Pool"
   ]
  },
  {
   "cell_type": "code",
   "execution_count": null,
   "metadata": {},
   "outputs": [],
   "source": [
    "import torch\n",
    "import torch.nn as nn\n",
    "\n",
    "\n",
    "\n",
    "# def f(n):\n",
    "#     return n+2\n",
    "\n",
    "# p = Pool()\n",
    "\n",
    "# t = torch.ones(10,5,10)\n",
    "\n",
    "\n",
    "# # a = time.time()\n",
    "# result = p.map(f, t) #This alone will divide the work among all available cores equally\n",
    "# p.close()\n",
    "# p.join()\n",
    "# # b = time.time() - a\n",
    "# # print('Time taken: {}'.format(b))\n",
    "# # print(result)\n"
   ]
  },
  {
   "cell_type": "code",
   "execution_count": 147,
   "metadata": {},
   "outputs": [],
   "source": [
    "import concurrent.futures"
   ]
  },
  {
   "cell_type": "code",
   "execution_count": null,
   "metadata": {},
   "outputs": [],
   "source": [
    "import multiprocessing as mp\n",
    "\n",
    "criterion = nn.CrossEntropyLoss()\n",
    "target = torch.Tensor([1.]).long\n",
    "\n",
    "def updateParams(mod):\n",
    "    optim.zero_grad()\n",
    "    loss = criterion(mod(x), target)\n",
    "    loss.backward()\n",
    "    optim.step()\n",
    "    \n",
    "x = torch.Tensor([1.,2.,3,])\n",
    "optim = optimizer.Adam(lr = 1e-1, params = mod.parameters())\n",
    "mod = nn.Sequential(\n",
    "    nn.Linear(3,2),\n",
    "    nn.Softmax(dim = 0)\n",
    ")\n",
    "\n",
    "for i in mod.parameters():\n",
    "    print(i)\n",
    "    \n",
    "mod.share_memory()\n",
    "\n",
    "processes = []\n",
    "for rank in range(1):\n",
    "    p = mp.Process(target=updateParams, args=(mod,))\n",
    "    p.start()\n",
    "    processes.append(p)\n",
    "for p in processes:\n",
    "    p.join()\n",
    "\n",
    "for i in mod.parameters():\n",
    "    print(i)   "
   ]
  },
  {
   "cell_type": "code",
   "execution_count": null,
   "metadata": {},
   "outputs": [],
   "source": [
    "\n",
    "criterion = nn.CrossEntropyLoss()\n",
    "x = torch.Tensor([1.,2.,3,]).reshape(1,3)\n",
    "print(x.shape)\n",
    "\n",
    "mod = nn.Linear(3,2)\n",
    "optim = optimizer.SGD(lr = 5, params = mod.parameters())\n",
    "for i in mod.parameters():\n",
    "    print(i)\n",
    "print()\n",
    "optim.zero_grad()\n",
    "pred = nn.Softmax(dim=0)(mod(x)).reshape(1,2)\n",
    "print(pred.shape)\n",
    "target = torch.Tensor([0])\n",
    "print(target.shape)\n",
    "loss = criterion(pred, target.long())\n",
    "loss.backward()\n",
    "optim.step()\n",
    "for i in mod.parameters():\n",
    "    print(i)\n",
    "print()\n",
    "pred = nn.Softmax(dim=0)(mod(x)).reshape(1,2)\n",
    "optim.zero_grad()\n",
    "loss = criterion(pred, target.long())\n",
    "loss.backward()\n",
    "optim.step()\n",
    "for i in mod.parameters():\n",
    "    print(i)\n",
    "print()"
   ]
  },
  {
   "cell_type": "code",
   "execution_count": null,
   "metadata": {},
   "outputs": [],
   "source": []
  },
  {
   "cell_type": "code",
   "execution_count": null,
   "metadata": {},
   "outputs": [],
   "source": []
  },
  {
   "cell_type": "code",
   "execution_count": null,
   "metadata": {},
   "outputs": [],
   "source": []
  },
  {
   "cell_type": "code",
   "execution_count": null,
   "metadata": {},
   "outputs": [],
   "source": []
  },
  {
   "cell_type": "code",
   "execution_count": null,
   "metadata": {},
   "outputs": [],
   "source": []
  },
  {
   "cell_type": "code",
   "execution_count": null,
   "metadata": {},
   "outputs": [],
   "source": []
  }
 ],
 "metadata": {
  "kernelspec": {
   "display_name": "Python 3",
   "language": "python",
   "name": "python3"
  },
  "language_info": {
   "codemirror_mode": {
    "name": "ipython",
    "version": 3
   },
   "file_extension": ".py",
   "mimetype": "text/x-python",
   "name": "python",
   "nbconvert_exporter": "python",
   "pygments_lexer": "ipython3",
   "version": "3.6.9"
  }
 },
 "nbformat": 4,
 "nbformat_minor": 2
}
