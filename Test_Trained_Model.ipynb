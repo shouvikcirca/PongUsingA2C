{
 "cells": [
  {
   "cell_type": "code",
   "execution_count": 6,
   "metadata": {},
   "outputs": [],
   "source": [
    "import torch\n",
    "import gym\n",
    "from gym import envs\n",
    "import torch.nn as nn\n",
    "import torch.nn.functional as F\n",
    "import torch.optim as optim\n",
    "import numpy as np\n",
    "from torch.distributions import Categorical\n",
    "from torchvision import transforms\n",
    "import pickle"
   ]
  },
  {
   "cell_type": "code",
   "execution_count": 2,
   "metadata": {},
   "outputs": [],
   "source": [
    "lenobs = 21190\n",
    "class ActorCritic(nn.Module):\n",
    "    def __init__(self):\n",
    "        super(ActorCritic, self).__init__()\n",
    "        self.l1 = nn.Linear(lenobs,25)\n",
    "        self.l2 = nn.Linear(25,50)\n",
    "        self.actor_lin1 = nn.Linear(50,3)\n",
    "        self.l3 = nn.Linear(50,25)\n",
    "        self.critic_lin1 = nn.Linear(25,1)\n",
    "\n",
    "    def forward(self,x):\n",
    "        x = F.normalize(x,dim=0)\n",
    "        y = F.relu(self.l1(x))\n",
    "        y = F.normalize(y,dim=0)\n",
    "        y = F.relu(self.l2(y))\n",
    "        y = F.normalize(y,dim=0)\n",
    "#         actor = F.softmax(self.actor_lin1(y),dim=0)\n",
    "        actor = F.log_softmax(self.actor_lin1(y),dim=0)\n",
    "        c = F.relu(self.l3(y.detach()))\n",
    "        critic = torch.tanh(self.critic_lin1(c))\n",
    "        return actor, critic"
   ]
  },
  {
   "cell_type": "code",
   "execution_count": 3,
   "metadata": {},
   "outputs": [],
   "source": [
    "env = gym.make('Pong-v0')\n",
    "moveMapping = {\n",
    "    0:0,\n",
    "    1:2,\n",
    "    2:3\n",
    "}"
   ]
  },
  {
   "cell_type": "code",
   "execution_count": 9,
   "metadata": {},
   "outputs": [
    {
     "name": "stdout",
     "output_type": "stream",
     "text": [
      "5.6364781856536865\n"
     ]
    }
   ],
   "source": [
    "import time\n",
    "observation = env.reset()\n",
    "preprocess = transforms.Compose([\n",
    "    transforms.ToPILImage(),\n",
    "])\n",
    "#Loading model\n",
    "model = ActorCritic()\n",
    "model_path = './a2c.pth'\n",
    "m1 = torch.load(model_path)\n",
    "model.load_state_dict(m1)\n",
    "model.eval()\n",
    "\n",
    "\n",
    "done = False\n",
    "a = time.time()\n",
    "while done == False:\n",
    "    pobservation = torch.from_numpy(observation).permute(2,0,1)\n",
    "    cropped_image = transforms.functional.crop(preprocess(pobservation),32,15,163,130)\n",
    "    gs_image = transforms.functional.to_grayscale(cropped_image)\n",
    "    gs_tensor = transforms.ToTensor()(gs_image)\n",
    "    flattened_pobservation = gs_tensor.view(-1).float()\n",
    "    policy, value = model(flattened_pobservation)\n",
    "    sampler = Categorical(policy)\n",
    "    action = sampler.sample()\n",
    "    observation, reward, done, log = env.step(moveMapping[action.item()])\n",
    "    env.render()\n",
    "    \n",
    "if done:\n",
    "    env.close()\n",
    "    \n",
    "b = time.time()-a\n",
    "print(b)"
   ]
  },
  {
   "cell_type": "markdown",
   "metadata": {},
   "source": [
    "Number of times agent won"
   ]
  },
  {
   "cell_type": "code",
   "execution_count": 8,
   "metadata": {},
   "outputs": [
    {
     "data": {
      "text/plain": [
       "[0]"
      ]
     },
     "execution_count": 8,
     "metadata": {},
     "output_type": "execute_result"
    }
   ],
   "source": [
    "one_reward_count = pickle.load(open('one_reward_count.pkl','rb'))\n",
    "one_reward_count"
   ]
  },
  {
   "cell_type": "code",
   "execution_count": null,
   "metadata": {},
   "outputs": [],
   "source": []
  }
 ],
 "metadata": {
  "kernelspec": {
   "display_name": "Python 3",
   "language": "python",
   "name": "python3"
  },
  "language_info": {
   "codemirror_mode": {
    "name": "ipython",
    "version": 3
   },
   "file_extension": ".py",
   "mimetype": "text/x-python",
   "name": "python",
   "nbconvert_exporter": "python",
   "pygments_lexer": "ipython3",
   "version": "3.5.2"
  }
 },
 "nbformat": 4,
 "nbformat_minor": 2
}
