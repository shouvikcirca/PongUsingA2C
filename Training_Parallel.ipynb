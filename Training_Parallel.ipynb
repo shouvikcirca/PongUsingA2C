{
 "cells": [
  {
   "cell_type": "code",
   "execution_count": 1,
   "metadata": {},
   "outputs": [],
   "source": [
    "import torch\n",
    "import gym\n",
    "from gym import envs\n",
    "import torch.nn as nn\n",
    "import torch.nn.functional as F\n",
    "import torch.optim as optim\n",
    "import numpy as np\n",
    "# from torch.autograd import Variable\n",
    "from torch.distributions import Categorical\n",
    "# from torchvision import transforms\n",
    "# from torch.utils.tensorboard import SummaryWriter\n",
    "import concurrent.futures\n"
   ]
  },
  {
   "cell_type": "code",
   "execution_count": 7,
   "metadata": {},
   "outputs": [],
   "source": [
    "lenobs = 100800\n",
    "class ActorCritic(nn.Module):\n",
    "    def __init__(self, ran):\n",
    "        super(ActorCritic, self).__init__()\n",
    "        torch.random.manual_seed(ran)\n",
    "        self.l1 = nn.Linear(lenobs,25)\n",
    "        self.l2 = nn.Linear(25,50)\n",
    "        self.actor_lin1 = nn.Linear(50,6)\n",
    "        self.l3 = nn.Linear(50,25)\n",
    "        self.critic_lin1 = nn.Linear(25,1)\n",
    "\n",
    "    def forward(self,x):\n",
    "        x = F.normalize(x,dim=0)\n",
    "        y = F.relu(self.l1(x))\n",
    "        y = F.normalize(y,dim=0)\n",
    "        y = F.relu(self.l2(y))\n",
    "        y = F.normalize(y,dim=0)\n",
    "#         actor = F.softmax(self.actor_lin1(y),dim=0)\n",
    "        actor = F.log_softmax(self.actor_lin1(y),dim=0)\n",
    "        c = F.relu(self.l3(y.detach()))\n",
    "        critic = F.hardtanh(self.critic_lin1(c))\n",
    "        return actor, critic"
   ]
  },
  {
   "cell_type": "code",
   "execution_count": 23,
   "metadata": {},
   "outputs": [],
   "source": [
    "def doTrain(model, ran):  \n",
    "    \n",
    "    env = gym.make('Pong-v0')\n",
    "    mi = model(ran)\n",
    "    optimizer = optim.Adam(lr=1e-4,params=mi.parameters())\n",
    "    \n",
    "    values = []\n",
    "    rewards = []\n",
    "    logprobs = []\n",
    "    observation = env.reset()\n",
    "    done = False\n",
    "    N = 0\n",
    "    while done == False and N<10:\n",
    "        N+=1\n",
    "        pobservation = torch.from_numpy(observation)\n",
    "        flattened_pobservation = pobservation.view(-1).float()\n",
    "        policy, value = mi(flattened_pobservation)\n",
    "        values.append(value.item())\n",
    "        sampler = Categorical(policy)\n",
    "        action = sampler.sample()\n",
    "        logprobs.append(policy[action.item()].item())\n",
    "        observation, reward, done, log = env.step(action.item())\n",
    "        if done:\n",
    "            rewards.append(1.0)\n",
    "        else:\n",
    "            rewards.append(reward)\n",
    "        \n",
    "    torch_values = torch.tensor(values, requires_grad = True).view(-1).flip(0)\n",
    "    torch_rewards = torch.tensor(rewards, requires_grad = True).flip(0)\n",
    "    torch_logprobs = torch.tensor(logprobs, requires_grad = True).flip(0)\n",
    "    \n",
    "    returns = []\n",
    "    gamma = 0.90\n",
    "    clc = 0.1\n",
    "    ret = 0.0\n",
    "    for r in torch_rewards:\n",
    "        ret = r + gamma*ret\n",
    "        returns.append(ret)\n",
    "    returns = torch.tensor(returns, requires_grad = True)\n",
    "    returns = F.normalize(returns,dim=0)\n",
    "    actor_loss = -1*torch_logprobs * (returns - torch_values.detach())\n",
    "    critic_loss = torch.pow(torch_values - returns,2)\n",
    "    loss = actor_loss.sum() + clc*critic_loss.sum()\n",
    "    optimizer.zero_grad()\n",
    "    loss.backward()\n",
    "    gradients = []\n",
    "    \n",
    "    f = open('grads.txt','w')\n",
    "    for i in mi.named_parameters():\n",
    "#         gradients.append(i.grad)\n",
    "        try:\n",
    "            f.write(str(i.grad))\n",
    "        except:\n",
    "            f.write('\\n***NoGrad***')\n",
    "    \n",
    "    \n",
    "    f.close()\n",
    "    \n",
    "    optimizer.step()\n",
    "    return gradients\n"
   ]
  },
  {
   "cell_type": "code",
   "execution_count": 24,
   "metadata": {},
   "outputs": [],
   "source": [
    "updatedParams = []\n",
    "results = []\n",
    "\n",
    "\n",
    "with concurrent.futures.ProcessPoolExecutor() as executor:\n",
    "    for i in range(5):\n",
    "        results.append(executor.submit(doTrain, ActorCritic, int((torch.randn(1)**2)*200)))\n",
    "    \n",
    "\n",
    "    for f in concurrent.futures.as_completed(results):\n",
    "        updatedParams.append(f.result())\n"
   ]
  },
  {
   "cell_type": "code",
   "execution_count": 25,
   "metadata": {},
   "outputs": [
    {
     "data": {
      "text/plain": [
       "[[], [], [], [], []]"
      ]
     },
     "execution_count": 25,
     "metadata": {},
     "output_type": "execute_result"
    }
   ],
   "source": [
    "updatedParams"
   ]
  },
  {
   "cell_type": "code",
   "execution_count": null,
   "metadata": {},
   "outputs": [],
   "source": []
  },
  {
   "cell_type": "code",
   "execution_count": null,
   "metadata": {},
   "outputs": [],
   "source": []
  },
  {
   "cell_type": "code",
   "execution_count": null,
   "metadata": {},
   "outputs": [],
   "source": []
  },
  {
   "cell_type": "code",
   "execution_count": null,
   "metadata": {},
   "outputs": [],
   "source": []
  },
  {
   "cell_type": "code",
   "execution_count": null,
   "metadata": {},
   "outputs": [],
   "source": []
  },
  {
   "cell_type": "code",
   "execution_count": null,
   "metadata": {},
   "outputs": [],
   "source": []
  },
  {
   "cell_type": "code",
   "execution_count": null,
   "metadata": {},
   "outputs": [],
   "source": []
  },
  {
   "cell_type": "code",
   "execution_count": null,
   "metadata": {},
   "outputs": [],
   "source": [
    "class mymodel(nn.Module):\n",
    "    def __init__(self):\n",
    "        super(mymodel, self).__init__()\n",
    "        self.w1 = nn.Linear(3,2)\n",
    "        \n",
    "    def forward(self, X):\n",
    "        out = self.w1(X)\n",
    "        return out\n",
    "    \n",
    "    \n",
    "a1 = mymodel()\n",
    "op = optim.Adam(lr=1e-3, params = a1.parameters())\n",
    "\n",
    "    \n",
    "X = torch.randn(3)\n",
    "out = a1(X)\n",
    "op.zero_grad()\n",
    "loss = out.sum()\n",
    "loss.backward()\n",
    "print(loss)\n",
    "op.step()"
   ]
  },
  {
   "cell_type": "code",
   "execution_count": null,
   "metadata": {},
   "outputs": [],
   "source": [
    "g = []"
   ]
  },
  {
   "cell_type": "code",
   "execution_count": null,
   "metadata": {},
   "outputs": [],
   "source": [
    "for i in a1.parameters():\n",
    "    g.append(i.grad)"
   ]
  },
  {
   "cell_type": "code",
   "execution_count": null,
   "metadata": {},
   "outputs": [],
   "source": []
  },
  {
   "cell_type": "code",
   "execution_count": 2,
   "metadata": {},
   "outputs": [],
   "source": [
    "def dTrain(model, X):\n",
    "    mi = model()\n",
    "    mi.train()\n",
    "    out = mi(X)\n",
    "    optimizer = optim.Adam(lr=1e-4,params=mi.parameters())\n",
    "    optimizer.zero_grad()\n",
    "    loss = out.sum()\n",
    "    loss.backward()\n",
    "    optimizer.step()\n",
    "    \n",
    "    gradients = []\n",
    "    for i in mi.parameters():\n",
    "        gradients.append(i.grad)\n",
    "    \n",
    "    return gradients"
   ]
  },
  {
   "cell_type": "code",
   "execution_count": 3,
   "metadata": {},
   "outputs": [],
   "source": [
    "class mymodel(nn.Module):\n",
    "    def __init__(self):\n",
    "        super(mymodel, self).__init__()\n",
    "        self.w1 = nn.Linear(3,2)\n",
    "        \n",
    "    def forward(self, X):\n",
    "        out = self.w1(X)\n",
    "        return out\n",
    "\n",
    "\n",
    "    \n",
    "updatedParams = []\n",
    "results = []\n",
    "\n",
    "\n",
    "with concurrent.futures.ProcessPoolExecutor() as executor:\n",
    "    for i in range(5):\n",
    "        X = torch.randn(3)\n",
    "        results.append(executor.submit(dTrain, mymodel, X))\n",
    "    \n",
    "\n",
    "    for f in concurrent.futures.as_completed(results):\n",
    "        updatedParams.append(f.result())\n"
   ]
  },
  {
   "cell_type": "code",
   "execution_count": 4,
   "metadata": {},
   "outputs": [
    {
     "data": {
      "text/plain": [
       "([tensor([[-1.5693, -0.8370,  0.2175],\n",
       "          [-1.5693, -0.8370,  0.2175]]), tensor([1., 1.])],\n",
       " [tensor([[ 1.3216, -0.2651, -0.7811],\n",
       "          [ 1.3216, -0.2651, -0.7811]]), tensor([1., 1.])],\n",
       " [tensor([[-0.0011, -0.5416, -0.1722],\n",
       "          [-0.0011, -0.5416, -0.1722]]), tensor([1., 1.])])"
      ]
     },
     "execution_count": 4,
     "metadata": {},
     "output_type": "execute_result"
    }
   ],
   "source": [
    "updatedParams[0], updatedParams[1], updatedParams[2]"
   ]
  }
 ],
 "metadata": {
  "kernelspec": {
   "display_name": "Python 3",
   "language": "python",
   "name": "python3"
  },
  "language_info": {
   "codemirror_mode": {
    "name": "ipython",
    "version": 3
   },
   "file_extension": ".py",
   "mimetype": "text/x-python",
   "name": "python",
   "nbconvert_exporter": "python",
   "pygments_lexer": "ipython3",
   "version": "3.5.2"
  }
 },
 "nbformat": 4,
 "nbformat_minor": 2
}
