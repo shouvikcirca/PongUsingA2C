{
 "cells": [
  {
   "cell_type": "code",
   "execution_count": 1,
   "metadata": {},
   "outputs": [],
   "source": [
    "import torch\n",
    "import gym\n",
    "from gym import envs\n",
    "import torch.nn as nn\n",
    "import torch.nn.functional as F\n",
    "import torch.optim as optim\n",
    "import numpy as np\n",
    "from torch.autograd import Variable"
   ]
  },
  {
   "cell_type": "code",
   "execution_count": null,
   "metadata": {},
   "outputs": [],
   "source": [
    "for env in envs.registry.all():\n",
    "    print(env)"
   ]
  },
  {
   "cell_type": "code",
   "execution_count": null,
   "metadata": {},
   "outputs": [],
   "source": [
    "env.observation_space"
   ]
  },
  {
   "cell_type": "code",
   "execution_count": null,
   "metadata": {},
   "outputs": [],
   "source": [
    "env = gym.make('PongNoFrameskip-v0')\n",
    "observation = env.reset()\n",
    "\n",
    "\n",
    "env.render()\n",
    "print(observation)\n",
    "action = env.action_space.sample()\n",
    "a, b, c, d = env.step(action)\n",
    "print(a,b,c,d)\n",
    "\n",
    "env.close()\n"
   ]
  },
  {
   "cell_type": "code",
   "execution_count": null,
   "metadata": {},
   "outputs": [],
   "source": [
    "#Run to see visual\n",
    "\n",
    "for i_episode in range(2):\n",
    "    observation = env.reset()\n",
    "    for t in range(1000):\n",
    "        env.render()\n",
    "        print(observation)\n",
    "        action = env.action_space.sample()\n",
    "        observation, reward, done, log = env.step(action)\n",
    "        if done:\n",
    "            print(\"Episode finished after {} timesteps\".format(t+1))\n",
    "            break\n",
    "env.close()\n"
   ]
  },
  {
   "cell_type": "code",
   "execution_count": null,
   "metadata": {},
   "outputs": [],
   "source": [
    "env = gym.make('PongNoFrameskip-v0')\n",
    "observation = env.reset()\n",
    "\n",
    "\n",
    "# env.render()\n",
    "print(observation)\n",
    "# action = env.action_space.sample()\n",
    "# a, b, c, d = env.step(action)\n",
    "# print(a,b,c,d)\n",
    "\n",
    "env.close()\n"
   ]
  },
  {
   "cell_type": "code",
   "execution_count": null,
   "metadata": {},
   "outputs": [],
   "source": [
    "env.action_space"
   ]
  },
  {
   "cell_type": "code",
   "execution_count": null,
   "metadata": {},
   "outputs": [],
   "source": [
    "type(observation)"
   ]
  },
  {
   "cell_type": "code",
   "execution_count": null,
   "metadata": {},
   "outputs": [],
   "source": [
    "pobservation = torch.from_numpy(observation)\n",
    "pobservation"
   ]
  },
  {
   "cell_type": "code",
   "execution_count": null,
   "metadata": {},
   "outputs": [],
   "source": [
    "flattened_pobservation = pobservation.view(1,-1).float()"
   ]
  },
  {
   "cell_type": "code",
   "execution_count": null,
   "metadata": {},
   "outputs": [],
   "source": [
    "lenobs = len(flattened_pobservation[0])\n",
    "lenobs"
   ]
  },
  {
   "cell_type": "code",
   "execution_count": null,
   "metadata": {},
   "outputs": [],
   "source": [
    "flattened_pobservation.shape"
   ]
  },
  {
   "cell_type": "code",
   "execution_count": null,
   "metadata": {},
   "outputs": [],
   "source": [
    "preds = ANNmodel(flattened_pobservation)\n",
    "preds"
   ]
  },
  {
   "cell_type": "code",
   "execution_count": null,
   "metadata": {},
   "outputs": [],
   "source": [
    "#Sampling from actions\n",
    "action = np.random.choice(np.array([0,1]), p = preds.view(2,).data.numpy())\n",
    "action"
   ]
  },
  {
   "cell_type": "code",
   "execution_count": null,
   "metadata": {},
   "outputs": [],
   "source": [
    "# Alternate model\n",
    "ANNmodel2 = nn.Sequential(\n",
    "           nn.Linear(lenobs, 2000),\n",
    "           nn.LeakyReLU(),\n",
    "           nn.Linear(2000,2),\n",
    "           nn.LeakyReLU(),\n",
    "           nn.Softmax(dim = 1))"
   ]
  },
  {
   "cell_type": "code",
   "execution_count": null,
   "metadata": {},
   "outputs": [],
   "source": [
    "lenobs = 100800\n",
    "ANNmodel1 = nn.Sequential(\n",
    "           nn.Linear(lenobs, 2000),\n",
    "           nn.Sigmoid(),\n",
    "           nn.Linear(2000,2),\n",
    "           nn.Sigmoid(),\n",
    "           nn.Softmax(dim = 1))"
   ]
  },
  {
   "cell_type": "code",
   "execution_count": 2,
   "metadata": {},
   "outputs": [],
   "source": [
    "lenobs = 100800\n",
    "class ActorCritic(nn.Module):\n",
    "    def __init__(self):\n",
    "        super(ActorCritic, self).__init__()\n",
    "        self.l1 = nn.Linear(lenobs,25)\n",
    "        self.l2 = nn.Linear(25,50)\n",
    "        self.actor_lin1 = nn.Linear(50,2)\n",
    "        self.l3 = nn.Linear(50,25)\n",
    "        self.critic_lin1 = nn.Linear(25,1)\n",
    "\n",
    "    def forward(self,x):\n",
    "        x = F.normalize(x,dim=0)\n",
    "        y = F.relu(self.l1(x))\n",
    "        y = F.relu(self.l2(y))\n",
    "        actor = F.softmax(self.actor_lin1(y),dim=0)\n",
    "#         actor = F.log_softmax(self.actor_lin1(y),dim=0)\n",
    "        c = F.relu(self.l3(y.detach()))\n",
    "        critic = torch.tanh(self.critic_lin1(c))\n",
    "        return actor, critic"
   ]
  },
  {
   "cell_type": "code",
   "execution_count": 4,
   "metadata": {},
   "outputs": [
    {
     "name": "stdout",
     "output_type": "stream",
     "text": [
      "---------------\n",
      "Episode:0 State:3056 Reward:-1.0\n",
      "Episode finished after 3057 timesteps\n",
      "Loss: -113.89744567871094\n",
      "---------------\n",
      "Episode:1 State:3056 Reward:-1.0\n",
      "Episode finished after 3057 timesteps\n",
      "Loss: -113.91683197021484\n"
     ]
    }
   ],
   "source": [
    "env = gym.make('PongNoFrameskip-v0')\n",
    "moveMapping = {\n",
    "    0:2,\n",
    "    1:3\n",
    "}\n",
    "\n",
    "model = ActorCritic()\n",
    "optimizer = optim.Adam(lr=1e-4,params=model.parameters())\n",
    "\n",
    "'''\n",
    "loss = Variable(loss, requires_grad = True)\n",
    "actor_loss = Variable(actor_loss, requires_grad = True)\n",
    "critic_loss = Variable(critic_loss, requires_grad = True)\n",
    "'''\n",
    "\n",
    "for i_episode in range(2):\n",
    "#     reward = 0.0\n",
    "    values = []\n",
    "    rewards = []\n",
    "    logprobs = []\n",
    "    observation = env.reset()\n",
    "    print('---------------')\n",
    "    done = False\n",
    "    t = 0\n",
    "    while done == False:\n",
    "        t+=1\n",
    "#         print(t)\n",
    "        pobservation = torch.from_numpy(observation)\n",
    "        flattened_pobservation = pobservation.view(-1).float()\n",
    "        policy, value = model(flattened_pobservation)\n",
    "#         print(policy)\n",
    "        values.append(value)\n",
    "        action = np.random.choice(np.array([0,1]), p = policy.view(2,).data.numpy())\n",
    "        logprobs.append(policy.view(-1)[action])\n",
    "#         print('Action: {}'.format('right' if action==2 else 'left'))\n",
    "        observation, reward, done, log = env.step(moveMapping[action])\n",
    "        rewards.append(reward)\n",
    "#         print('{}.Reward: {}'.format(t,reward))\n",
    "#         print('---')\n",
    "        if done:\n",
    "            print('Episode:{} State:{} Reward:{}'.format(i_episode,t,reward))\n",
    "            print(\"Episode finished after {} timesteps\".format(t+1))    \n",
    "            break\n",
    "        \n",
    "      \n",
    "    # Reversing because earlier actions have greater value\n",
    "    torch_values = torch.tensor(values, requires_grad = True).view(-1).flip(0)\n",
    "    torch_rewards = torch.tensor(rewards, requires_grad = True).flip(0)\n",
    "    torch_logprobs = torch.tensor(logprobs, requires_grad = True).flip(0)\n",
    "    \n",
    "    \n",
    "    returns = []\n",
    "    gamma = 0.95\n",
    "    clc = 0.1\n",
    "    ret = torch.tensor([0])\n",
    "    for r in torch_rewards:\n",
    "        ret = r + gamma*ret\n",
    "        returns.append(ret)\n",
    "    returns = torch.tensor(returns, requires_grad = True)\n",
    "    returns = F.normalize(returns,dim=0)\n",
    "    actor_loss = -1*torch_logprobs * (returns - torch_values)\n",
    "    critic_loss = torch.pow(torch_values - returns,2)\n",
    "    loss = actor_loss.sum() + clc*critic_loss.sum()\n",
    "    print('Loss: {}'.format(loss))\n",
    "#     print('Starting Backpropagation')\n",
    "    loss.backward()\n",
    "    optimizer.step()\n",
    "#     print('Completed Backpropagation')\n",
    "    done = not done\n",
    "    \n",
    "    "
   ]
  },
  {
   "cell_type": "code",
   "execution_count": null,
   "metadata": {},
   "outputs": [],
   "source": [
    "env.close()"
   ]
  },
  {
   "cell_type": "code",
   "execution_count": null,
   "metadata": {},
   "outputs": [],
   "source": [
    "#################### Checking operations of pong #######################3"
   ]
  },
  {
   "cell_type": "code",
   "execution_count": null,
   "metadata": {},
   "outputs": [],
   "source": [
    " env.unwrapped.get_action_meanings()"
   ]
  },
  {
   "cell_type": "code",
   "execution_count": null,
   "metadata": {},
   "outputs": [],
   "source": [
    "##########################################################################"
   ]
  },
  {
   "cell_type": "code",
   "execution_count": null,
   "metadata": {},
   "outputs": [],
   "source": [
    "############################# Experimenting with Backpropagation ######################\n",
    "\n",
    "inp = torch.tensor([2.,3.]).float()\n",
    "weights = torch.tensor([1.,9.], requires_grad = True).float()\n",
    "print(\"Params: \",weights)\n",
    "gt = torch.tensor([6.])\n",
    "print(\"Ground truth: \",gt)\n",
    "out = torch.dot(inp,weights)\n",
    "print(\"Prediction: \",out)\n",
    "\n",
    "error = (gt - out)\n",
    "\n"
   ]
  },
  {
   "cell_type": "code",
   "execution_count": null,
   "metadata": {},
   "outputs": [],
   "source": [
    "optimizer = optim.SGD([weights],lr = 0.1)\n",
    "optimizer.zero_grad()\n",
    "error.backward()\n",
    "optimizer.step()\n",
    "\n",
    "# print(ANNmodel.weight.grad)\n",
    "weights.grad, out.grad"
   ]
  },
  {
   "cell_type": "code",
   "execution_count": null,
   "metadata": {},
   "outputs": [],
   "source": [
    "#Weights after one round of backpropagation\n",
    "weights"
   ]
  },
  {
   "cell_type": "code",
   "execution_count": null,
   "metadata": {},
   "outputs": [],
   "source": [
    "# Checking variables with requires_grad\n",
    "inp.requires_grad, weights.requires_grad, gt.requires_grad, out.requires_grad, error.requires_grad"
   ]
  },
  {
   "cell_type": "code",
   "execution_count": null,
   "metadata": {},
   "outputs": [],
   "source": [
    "###############################################################################################"
   ]
  },
  {
   "cell_type": "code",
   "execution_count": null,
   "metadata": {},
   "outputs": [],
   "source": [
    "############################ Manually setting gradients #######################################"
   ]
  },
  {
   "cell_type": "code",
   "execution_count": null,
   "metadata": {},
   "outputs": [],
   "source": [
    "MinorModel2 = nn.Sequential( \n",
    "             nn.Linear(2,1, bias = False))\n",
    "\n",
    "inp = torch.tensor([2.,3.])\n",
    "out = MinorModel(inp)\n",
    "out"
   ]
  },
  {
   "cell_type": "code",
   "execution_count": null,
   "metadata": {},
   "outputs": [],
   "source": [
    "for params in MinorModel2.parameters():\n",
    "    print(params)"
   ]
  },
  {
   "cell_type": "code",
   "execution_count": null,
   "metadata": {},
   "outputs": [],
   "source": [
    "MinorModel2[0].weight"
   ]
  },
  {
   "cell_type": "code",
   "execution_count": null,
   "metadata": {},
   "outputs": [],
   "source": [
    "MinorModel2[0].weight.grad = torch.Tensor([1,2]).view(1,-1)"
   ]
  },
  {
   "cell_type": "code",
   "execution_count": null,
   "metadata": {},
   "outputs": [],
   "source": [
    "o2 = optim.SGD(MinorModel2.parameters(), lr=0.1)\n",
    "\n",
    "o2.step()"
   ]
  },
  {
   "cell_type": "code",
   "execution_count": null,
   "metadata": {},
   "outputs": [],
   "source": [
    "for params in MinorModel2.parameters():\n",
    "    print(params)"
   ]
  },
  {
   "cell_type": "code",
   "execution_count": null,
   "metadata": {},
   "outputs": [],
   "source": [
    "########################################################"
   ]
  },
  {
   "cell_type": "code",
   "execution_count": null,
   "metadata": {},
   "outputs": [],
   "source": [
    "####################### Testing ########################"
   ]
  },
  {
   "cell_type": "code",
   "execution_count": null,
   "metadata": {},
   "outputs": [],
   "source": [
    "\n",
    "MinorModel = nn.Sequential( \n",
    "             nn.Linear(2,1, bias = False))\n",
    "\n",
    "inp = torch.tensor([2.,3.])\n",
    "out = MinorModel(inp)\n",
    "out\n"
   ]
  },
  {
   "cell_type": "code",
   "execution_count": null,
   "metadata": {},
   "outputs": [],
   "source": [
    "\n",
    "for name, params in MinorModel.named_parameters():\n",
    "    print(name, params)\n",
    "    \n"
   ]
  },
  {
   "cell_type": "code",
   "execution_count": null,
   "metadata": {},
   "outputs": [],
   "source": [
    "\n",
    "for params in MinorModel.parameters():\n",
    "    print(params)\n",
    "    print(type(params))\n",
    "    \n",
    "print(MinorModel.parameters())\n"
   ]
  },
  {
   "cell_type": "code",
   "execution_count": null,
   "metadata": {},
   "outputs": [],
   "source": [
    "#######################################################"
   ]
  },
  {
   "cell_type": "code",
   "execution_count": null,
   "metadata": {},
   "outputs": [],
   "source": []
  }
 ],
 "metadata": {
  "kernelspec": {
   "display_name": "Python 3",
   "language": "python",
   "name": "python3"
  },
  "language_info": {
   "codemirror_mode": {
    "name": "ipython",
    "version": 3
   },
   "file_extension": ".py",
   "mimetype": "text/x-python",
   "name": "python",
   "nbconvert_exporter": "python",
   "pygments_lexer": "ipython3",
   "version": "3.5.2"
  }
 },
 "nbformat": 4,
 "nbformat_minor": 2
}
