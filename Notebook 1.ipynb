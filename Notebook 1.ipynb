{
 "cells": [
  {
   "cell_type": "code",
   "execution_count": 39,
   "metadata": {},
   "outputs": [],
   "source": [
    "import torch\n",
    "import gym\n",
    "from gym import envs\n",
    "import torch.nn as nn\n",
    "import torch.nn.functional as F\n",
    "import torch.optim as optim\n",
    "import numpy as np\n",
    "from torch.autograd import Variable"
   ]
  },
  {
   "cell_type": "code",
   "execution_count": null,
   "metadata": {},
   "outputs": [],
   "source": [
    "for env in envs.registry.all():\n",
    "    print(env)"
   ]
  },
  {
   "cell_type": "code",
   "execution_count": 40,
   "metadata": {},
   "outputs": [
    {
     "data": {
      "text/plain": [
       "Box(210, 160, 3)"
      ]
     },
     "execution_count": 40,
     "metadata": {},
     "output_type": "execute_result"
    }
   ],
   "source": [
    "env = gym.make('PongNoFrameskip-v0')\n",
    "env.observation_space"
   ]
  },
  {
   "cell_type": "code",
   "execution_count": 3,
   "metadata": {},
   "outputs": [
    {
     "name": "stdout",
     "output_type": "stream",
     "text": [
      "[[[  0   0   0]\n",
      "  [  0   0   0]\n",
      "  [  0   0   0]\n",
      "  ...\n",
      "  [109 118  43]\n",
      "  [109 118  43]\n",
      "  [109 118  43]]\n",
      "\n",
      " [[109 118  43]\n",
      "  [109 118  43]\n",
      "  [109 118  43]\n",
      "  ...\n",
      "  [109 118  43]\n",
      "  [109 118  43]\n",
      "  [109 118  43]]\n",
      "\n",
      " [[109 118  43]\n",
      "  [109 118  43]\n",
      "  [109 118  43]\n",
      "  ...\n",
      "  [109 118  43]\n",
      "  [109 118  43]\n",
      "  [109 118  43]]\n",
      "\n",
      " ...\n",
      "\n",
      " [[ 53  95  24]\n",
      "  [ 53  95  24]\n",
      "  [ 53  95  24]\n",
      "  ...\n",
      "  [ 53  95  24]\n",
      "  [ 53  95  24]\n",
      "  [ 53  95  24]]\n",
      "\n",
      " [[ 53  95  24]\n",
      "  [ 53  95  24]\n",
      "  [ 53  95  24]\n",
      "  ...\n",
      "  [ 53  95  24]\n",
      "  [ 53  95  24]\n",
      "  [ 53  95  24]]\n",
      "\n",
      " [[ 53  95  24]\n",
      "  [ 53  95  24]\n",
      "  [ 53  95  24]\n",
      "  ...\n",
      "  [ 53  95  24]\n",
      "  [ 53  95  24]\n",
      "  [ 53  95  24]]]\n",
      "[[[  0   0   0]\n",
      "  [  0   0   0]\n",
      "  [  0   0   0]\n",
      "  ...\n",
      "  [109 118  43]\n",
      "  [109 118  43]\n",
      "  [109 118  43]]\n",
      "\n",
      " [[109 118  43]\n",
      "  [109 118  43]\n",
      "  [109 118  43]\n",
      "  ...\n",
      "  [109 118  43]\n",
      "  [109 118  43]\n",
      "  [109 118  43]]\n",
      "\n",
      " [[109 118  43]\n",
      "  [109 118  43]\n",
      "  [109 118  43]\n",
      "  ...\n",
      "  [109 118  43]\n",
      "  [109 118  43]\n",
      "  [109 118  43]]\n",
      "\n",
      " ...\n",
      "\n",
      " [[ 53  95  24]\n",
      "  [ 53  95  24]\n",
      "  [ 53  95  24]\n",
      "  ...\n",
      "  [ 53  95  24]\n",
      "  [ 53  95  24]\n",
      "  [ 53  95  24]]\n",
      "\n",
      " [[ 53  95  24]\n",
      "  [ 53  95  24]\n",
      "  [ 53  95  24]\n",
      "  ...\n",
      "  [ 53  95  24]\n",
      "  [ 53  95  24]\n",
      "  [ 53  95  24]]\n",
      "\n",
      " [[ 53  95  24]\n",
      "  [ 53  95  24]\n",
      "  [ 53  95  24]\n",
      "  ...\n",
      "  [ 53  95  24]\n",
      "  [ 53  95  24]\n",
      "  [ 53  95  24]]] 0.0 False {'ale.lives': 0}\n"
     ]
    }
   ],
   "source": [
    "env = gym.make('PongNoFrameskip-v0')\n",
    "observation = env.reset()\n",
    "\n",
    "\n",
    "env.render()\n",
    "print(observation)\n",
    "action = env.action_space.sample()\n",
    "a, b, c, d = env.step(action)\n",
    "print(a,b,c,d)\n",
    "\n",
    "env.close()\n"
   ]
  },
  {
   "cell_type": "code",
   "execution_count": null,
   "metadata": {},
   "outputs": [],
   "source": [
    "#Run to see visual\n",
    "\n",
    "for i_episode in range(2):\n",
    "    observation = env.reset()\n",
    "    for t in range(1000):\n",
    "        env.render()\n",
    "        print(observation)\n",
    "        action = env.action_space.sample()\n",
    "        observation, reward, done, log = env.step(action)\n",
    "        if done:\n",
    "            print(\"Episode finished after {} timesteps\".format(t+1))\n",
    "            break\n",
    "env.close()\n"
   ]
  },
  {
   "cell_type": "code",
   "execution_count": null,
   "metadata": {},
   "outputs": [],
   "source": [
    "env = gym.make('PongNoFrameskip-v0')\n",
    "observation = env.reset()\n",
    "\n",
    "\n",
    "# env.render()\n",
    "print(observation)\n",
    "# action = env.action_space.sample()\n",
    "# a, b, c, d = env.step(action)\n",
    "# print(a,b,c,d)\n",
    "\n",
    "env.close()\n"
   ]
  },
  {
   "cell_type": "code",
   "execution_count": 1,
   "metadata": {},
   "outputs": [
    {
     "ename": "NameError",
     "evalue": "name 'env' is not defined",
     "output_type": "error",
     "traceback": [
      "\u001b[0;31m---------------------------------------------------------------------------\u001b[0m",
      "\u001b[0;31mNameError\u001b[0m                                 Traceback (most recent call last)",
      "\u001b[0;32m<ipython-input-1-c82214482147>\u001b[0m in \u001b[0;36m<module>\u001b[0;34m\u001b[0m\n\u001b[0;32m----> 1\u001b[0;31m \u001b[0menv\u001b[0m\u001b[0;34m.\u001b[0m\u001b[0maction_space\u001b[0m\u001b[0;34m\u001b[0m\u001b[0m\n\u001b[0m",
      "\u001b[0;31mNameError\u001b[0m: name 'env' is not defined"
     ]
    }
   ],
   "source": [
    "env.action_space"
   ]
  },
  {
   "cell_type": "code",
   "execution_count": null,
   "metadata": {},
   "outputs": [],
   "source": [
    "type(observation)"
   ]
  },
  {
   "cell_type": "code",
   "execution_count": null,
   "metadata": {},
   "outputs": [],
   "source": [
    "pobservation = torch.from_numpy(observation)\n",
    "pobservation"
   ]
  },
  {
   "cell_type": "code",
   "execution_count": null,
   "metadata": {},
   "outputs": [],
   "source": [
    "flattened_pobservation = pobservation.view(1,-1).float()"
   ]
  },
  {
   "cell_type": "code",
   "execution_count": null,
   "metadata": {},
   "outputs": [],
   "source": [
    "lenobs = len(flattened_pobservation[0])\n",
    "lenobs"
   ]
  },
  {
   "cell_type": "code",
   "execution_count": null,
   "metadata": {},
   "outputs": [],
   "source": [
    "flattened_pobservation.shape"
   ]
  },
  {
   "cell_type": "code",
   "execution_count": null,
   "metadata": {},
   "outputs": [],
   "source": [
    "preds = ANNmodel(flattened_pobservation)\n",
    "preds"
   ]
  },
  {
   "cell_type": "code",
   "execution_count": null,
   "metadata": {},
   "outputs": [],
   "source": [
    "#Sampling from actions\n",
    "action = np.random.choice(np.array([0,1]), p = preds.view(2,).data.numpy())\n",
    "action"
   ]
  },
  {
   "cell_type": "code",
   "execution_count": null,
   "metadata": {},
   "outputs": [],
   "source": [
    "# Alternate model\n",
    "ANNmodel2 = nn.Sequential(\n",
    "           nn.Linear(lenobs, 2000),\n",
    "           nn.LeakyReLU(),\n",
    "           nn.Linear(2000,2),\n",
    "           nn.LeakyReLU(),\n",
    "           nn.Softmax(dim = 1))"
   ]
  },
  {
   "cell_type": "code",
   "execution_count": null,
   "metadata": {},
   "outputs": [],
   "source": [
    "lenobs = 100800\n",
    "ANNmodel1 = nn.Sequential(\n",
    "           nn.Linear(lenobs, 2000),\n",
    "           nn.Sigmoid(),\n",
    "           nn.Linear(2000,2),\n",
    "           nn.Sigmoid(),\n",
    "           nn.Softmax(dim = 1))"
   ]
  },
  {
   "cell_type": "code",
   "execution_count": 2,
   "metadata": {},
   "outputs": [],
   "source": [
    "lenobs = 100800\n",
    "class ActorCritic(nn.Module):\n",
    "    def __init__(self):\n",
    "        super(ActorCritic, self).__init__()\n",
    "        self.l1 = nn.Linear(lenobs,25)\n",
    "        self.l2 = nn.Linear(25,50)\n",
    "        self.actor_lin1 = nn.Linear(50,2)\n",
    "        self.l3 = nn.Linear(50,25)\n",
    "        self.critic_lin1 = nn.Linear(25,1)\n",
    "\n",
    "    def forward(self,x):\n",
    "        x = F.normalize(x,dim=0)\n",
    "        y = F.relu(self.l1(x))\n",
    "        y = F.relu(self.l2(y))\n",
    "        actor = F.softmax(self.actor_lin1(y),dim=0)\n",
    "#         actor = F.log_softmax(self.actor_lin1(y),dim=0)\n",
    "        c = F.relu(self.l3(y.detach()))\n",
    "        critic = torch.tanh(self.critic_lin1(c))\n",
    "        return actor, critic"
   ]
  },
  {
   "cell_type": "code",
   "execution_count": 4,
   "metadata": {},
   "outputs": [
    {
     "name": "stdout",
     "output_type": "stream",
     "text": [
      "---------------\n",
      "Episode:0 State:3056 Reward:-1.0\n",
      "Episode finished after 3057 timesteps\n",
      "Loss: -113.89744567871094\n",
      "---------------\n",
      "Episode:1 State:3056 Reward:-1.0\n",
      "Episode finished after 3057 timesteps\n",
      "Loss: -113.91683197021484\n"
     ]
    }
   ],
   "source": [
    "env = gym.make('PongNoFrameskip-v0')\n",
    "moveMapping = {\n",
    "    0:2,\n",
    "    1:3\n",
    "}\n",
    "\n",
    "model = ActorCritic()\n",
    "optimizer = optim.Adam(lr=1e-4,params=model.parameters())\n",
    "\n",
    "'''\n",
    "loss = Variable(loss, requires_grad = True)\n",
    "actor_loss = Variable(actor_loss, requires_grad = True)\n",
    "critic_loss = Variable(critic_loss, requires_grad = True)\n",
    "'''\n",
    "\n",
    "for i_episode in range(2):\n",
    "#     reward = 0.0\n",
    "    values = []\n",
    "    rewards = []\n",
    "    logprobs = []\n",
    "    observation = env.reset()\n",
    "    print('---------------')\n",
    "    done = False\n",
    "    t = 0\n",
    "    while done == False:\n",
    "        t+=1\n",
    "#         print(t)\n",
    "        pobservation = torch.from_numpy(observation)\n",
    "        flattened_pobservation = pobservation.view(-1).float()\n",
    "        policy, value = model(flattened_pobservation)\n",
    "#         print(policy)\n",
    "        values.append(value)\n",
    "        action = np.random.choice(np.array([0,1]), p = policy.view(2,).data.numpy())\n",
    "        logprobs.append(policy.view(-1)[action])\n",
    "#         print('Action: {}'.format('right' if action==2 else 'left'))\n",
    "        observation, reward, done, log = env.step(moveMapping[action])\n",
    "        rewards.append(reward)\n",
    "#         print('{}.Reward: {}'.format(t,reward))\n",
    "#         print('---')\n",
    "        if done:\n",
    "            print('Episode:{} State:{} Reward:{}'.format(i_episode,t,reward))\n",
    "            print(\"Episode finished after {} timesteps\".format(t+1))    \n",
    "            break\n",
    "        \n",
    "      \n",
    "    # Reversing because earlier actions have greater value\n",
    "    torch_values = torch.tensor(values, requires_grad = True).view(-1).flip(0)\n",
    "    torch_rewards = torch.tensor(rewards, requires_grad = True).flip(0)\n",
    "    torch_logprobs = torch.tensor(logprobs, requires_grad = True).flip(0)\n",
    "    \n",
    "    \n",
    "    returns = []\n",
    "    gamma = 0.95\n",
    "    clc = 0.1\n",
    "    ret = torch.tensor([0])\n",
    "    for r in torch_rewards:\n",
    "        ret = r + gamma*ret\n",
    "        returns.append(ret)\n",
    "    returns = torch.tensor(returns, requires_grad = True)\n",
    "    returns = F.normalize(returns,dim=0)\n",
    "    actor_loss = -1*torch_logprobs * (returns - torch_values)\n",
    "    critic_loss = torch.pow(torch_values - returns,2)\n",
    "    loss = actor_loss.sum() + clc*critic_loss.sum()\n",
    "    print('Loss: {}'.format(loss))\n",
    "#     print('Starting Backpropagation')\n",
    "    loss.backward()\n",
    "    optimizer.step()\n",
    "#     print('Completed Backpropagation')\n",
    "    done = not done\n",
    "    \n",
    "    "
   ]
  },
  {
   "cell_type": "code",
   "execution_count": null,
   "metadata": {},
   "outputs": [],
   "source": [
    "env.close()"
   ]
  },
  {
   "cell_type": "code",
   "execution_count": null,
   "metadata": {},
   "outputs": [],
   "source": [
    "#################### Checking operations of pong #######################3"
   ]
  },
  {
   "cell_type": "code",
   "execution_count": 5,
   "metadata": {},
   "outputs": [
    {
     "data": {
      "text/plain": [
       "['NOOP', 'FIRE', 'RIGHT', 'LEFT', 'RIGHTFIRE', 'LEFTFIRE']"
      ]
     },
     "execution_count": 5,
     "metadata": {},
     "output_type": "execute_result"
    }
   ],
   "source": [
    " env.unwrapped.get_action_meanings()"
   ]
  },
  {
   "cell_type": "code",
   "execution_count": null,
   "metadata": {},
   "outputs": [],
   "source": [
    "##########################################################################"
   ]
  },
  {
   "cell_type": "code",
   "execution_count": null,
   "metadata": {},
   "outputs": [],
   "source": [
    "############################# Experimenting with Backpropagation ######################\n",
    "\n",
    "inp = torch.tensor([2.,3.]).float()\n",
    "weights = torch.tensor([1.,9.], requires_grad = True).float()\n",
    "print(\"Params: \",weights)\n",
    "gt = torch.tensor([6.])\n",
    "print(\"Ground truth: \",gt)\n",
    "out = torch.dot(inp,weights)\n",
    "print(\"Prediction: \",out)\n",
    "\n",
    "error = (gt - out)\n",
    "\n"
   ]
  },
  {
   "cell_type": "code",
   "execution_count": null,
   "metadata": {},
   "outputs": [],
   "source": [
    "optimizer = optim.SGD([weights],lr = 0.1)\n",
    "optimizer.zero_grad()\n",
    "error.backward()\n",
    "optimizer.step()\n",
    "\n",
    "# print(ANNmodel.weight.grad)\n",
    "weights.grad, out.grad"
   ]
  },
  {
   "cell_type": "code",
   "execution_count": null,
   "metadata": {},
   "outputs": [],
   "source": [
    "#Weights after one round of backpropagation\n",
    "weights"
   ]
  },
  {
   "cell_type": "code",
   "execution_count": null,
   "metadata": {},
   "outputs": [],
   "source": [
    "# Checking variables with requires_grad\n",
    "inp.requires_grad, weights.requires_grad, gt.requires_grad, out.requires_grad, error.requires_grad"
   ]
  },
  {
   "cell_type": "code",
   "execution_count": null,
   "metadata": {},
   "outputs": [],
   "source": [
    "###############################################################################################"
   ]
  },
  {
   "cell_type": "code",
   "execution_count": null,
   "metadata": {},
   "outputs": [],
   "source": [
    "############################ Manually setting gradients #######################################"
   ]
  },
  {
   "cell_type": "code",
   "execution_count": null,
   "metadata": {},
   "outputs": [],
   "source": [
    "MinorModel2 = nn.Sequential( \n",
    "             nn.Linear(2,1, bias = False))\n",
    "\n",
    "inp = torch.tensor([2.,3.])\n",
    "out = MinorModel(inp)\n",
    "out"
   ]
  },
  {
   "cell_type": "code",
   "execution_count": null,
   "metadata": {},
   "outputs": [],
   "source": [
    "for params in MinorModel2.parameters():\n",
    "    print(params)"
   ]
  },
  {
   "cell_type": "code",
   "execution_count": null,
   "metadata": {},
   "outputs": [],
   "source": [
    "MinorModel2[0].weight"
   ]
  },
  {
   "cell_type": "code",
   "execution_count": null,
   "metadata": {},
   "outputs": [],
   "source": [
    "MinorModel2[0].weight.grad = torch.Tensor([1,2]).view(1,-1)"
   ]
  },
  {
   "cell_type": "code",
   "execution_count": null,
   "metadata": {},
   "outputs": [],
   "source": [
    "o2 = optim.SGD(MinorModel2.parameters(), lr=0.1)\n",
    "\n",
    "o2.step()"
   ]
  },
  {
   "cell_type": "code",
   "execution_count": null,
   "metadata": {},
   "outputs": [],
   "source": [
    "for params in MinorModel2.parameters():\n",
    "    print(params)"
   ]
  },
  {
   "cell_type": "code",
   "execution_count": null,
   "metadata": {},
   "outputs": [],
   "source": [
    "########################################################"
   ]
  },
  {
   "cell_type": "code",
   "execution_count": null,
   "metadata": {},
   "outputs": [],
   "source": [
    "####################### Testing ########################"
   ]
  },
  {
   "cell_type": "code",
   "execution_count": null,
   "metadata": {},
   "outputs": [],
   "source": [
    "\n",
    "MinorModel = nn.Sequential( \n",
    "             nn.Linear(2,1, bias = False))\n",
    "\n",
    "inp = torch.tensor([2.,3.])\n",
    "out = MinorModel(inp)\n",
    "out\n"
   ]
  },
  {
   "cell_type": "code",
   "execution_count": null,
   "metadata": {},
   "outputs": [],
   "source": [
    "\n",
    "for name, params in MinorModel.named_parameters():\n",
    "    print(name, params)\n",
    "    \n"
   ]
  },
  {
   "cell_type": "code",
   "execution_count": null,
   "metadata": {},
   "outputs": [],
   "source": [
    "\n",
    "for params in MinorModel.parameters():\n",
    "    print(params)\n",
    "    print(type(params))\n",
    "    \n",
    "print(MinorModel.parameters())\n"
   ]
  },
  {
   "cell_type": "code",
   "execution_count": null,
   "metadata": {},
   "outputs": [],
   "source": [
    "#######################################################"
   ]
  },
  {
   "cell_type": "code",
   "execution_count": null,
   "metadata": {},
   "outputs": [],
   "source": [
    "############################ Experimentations ###############################################\n",
    "\n",
    "# from torch.distributions import Categorical\n",
    "# a = torch.tensor([20,20,20,20,20]).float()\n",
    "# # Note that this is equivalent to what used to be called multinomial\n",
    "# m = Categorical(a)\n",
    "\n",
    "# li = [0,0,0,0,0]\n",
    "\n",
    "\n",
    "# for i in range(100):\n",
    "#     li[m.sample().item()] +=1\n",
    "    \n",
    "# li\n",
    "\n",
    "# a = torch.tensor(3)\n",
    "# a.item()\n",
    "\n",
    "\n",
    "#############################################################################################"
   ]
  },
  {
   "cell_type": "markdown",
   "metadata": {},
   "source": [
    "Experimentation for cropping and grayscaling"
   ]
  },
  {
   "cell_type": "code",
   "execution_count": null,
   "metadata": {},
   "outputs": [],
   "source": [
    "import matplotlib.pyplot as plt\n",
    "%matplotlib inline\n",
    "from torchvision import transforms\n",
    "\n",
    "observation = env.reset()\n",
    "for _ in range(685):\n",
    "    observation, reward, done, log = env.step(1)\n",
    "\n",
    "\n",
    "tobservation = torch.from_numpy(observation).permute(2,0,1)\n",
    "# observation.shape # 210, 160, 3\n",
    "# tobservation.shape # 210 160 3\n",
    "\n",
    "preprocess = transforms.Compose([\n",
    "    transforms.ToPILImage(),\n",
    "])\n",
    "\n",
    "cropped_image = transforms.functional.crop(preprocess(tobservation),32,15,163,130)\n",
    "\n",
    "gs_image = transforms.functional.to_grayscale(cropped_image)\n",
    "\n",
    "gs_tensor = transforms.ToTensor()(gs_image)\n",
    "\n",
    "\n",
    "\n",
    "\n",
    "\n",
    "\n",
    "\n",
    "# gs_tensor.shape\n",
    "plt.imshow(gs_image)\n"
   ]
  },
  {
   "cell_type": "code",
   "execution_count": 68,
   "metadata": {},
   "outputs": [],
   "source": [
    "observation = env.reset()\n",
    "eps = 0"
   ]
  },
  {
   "cell_type": "code",
   "execution_count": 83,
   "metadata": {},
   "outputs": [
    {
     "data": {
      "image/png": "[encoded data removed]",
      "text/plain": [
       "<Figure size 432x288 with 9 Axes>"
      ]
     },
     "metadata": {
      "needs_background": "light"
     },
     "output_type": "display_data"
    }
   ],
   "source": [
    "import matplotlib.pyplot as pyplot\n",
    "%matplotlib inline\n",
    "\n",
    "\n",
    "for i in range(0, 9):\n",
    "    pyplot.subplot(330 + 1 + i)\n",
    "    tobservation = torch.from_numpy(observation)\n",
    "    pyplot.imshow(tobservation)\n",
    "    observation, reward, done, log = env.step(1)\n",
    "    eps+=1\n",
    "    \n",
    "pyplot.show()"
   ]
  },
  {
   "cell_type": "code",
   "execution_count": 84,
   "metadata": {},
   "outputs": [
    {
     "data": {
      "text/plain": [
       "99"
      ]
     },
     "execution_count": 84,
     "metadata": {},
     "output_type": "execute_result"
    }
   ],
   "source": [
    "eps"
   ]
  },
  {
   "cell_type": "markdown",
   "metadata": {},
   "source": [
    "Parallelized training experiments"
   ]
  },
  {
   "cell_type": "code",
   "execution_count": null,
   "metadata": {},
   "outputs": [],
   "source": [
    "import concurrent.futures\n",
    "import torch\n",
    "import torch.nn as nn\n",
    "import torch.optim as optimizer\n",
    "from torch.distributions import Categorical\n",
    "\n",
    "    \n",
    "class mymodel(nn.Module):\n",
    "    def __init__(self, ran):\n",
    "        super(mymodel,self).__init__()\n",
    "        torch.random.manual_seed(ran)\n",
    "        self.weight = nn.Linear(3,2)\n",
    "        self.out = None\n",
    "        \n",
    "    def forward(self, X):\n",
    "        self.out = self.weight(X)\n",
    "        self.out = nn.Softmax(dim = 0)(out)\n",
    "        return self.out\n",
    "\n",
    "\n",
    "        \n",
    "def doTrain(model, ran, X):     \n",
    "    a1 = model(ran)\n",
    "    return list(a1.parameters())\n",
    "\n",
    "X = torch.randn(20,3)\n",
    "\n",
    "\n",
    "updatedParams = []\n",
    "results = []\n",
    "\n",
    "\n",
    "with concurrent.futures.ProcessPoolExecutor() as executor:\n",
    "    for i in range(5):\n",
    "        results.append(executor.submit(doTrain, mymodel, int((torch.randn(1)**2)*200), X[i*4:(i+1)*4]))\n",
    "    \n",
    "\n",
    "    for f in concurrent.futures.as_completed(results):\n",
    "        updatedParams.append(f.result())\n"
   ]
  },
  {
   "cell_type": "code",
   "execution_count": null,
   "metadata": {},
   "outputs": [],
   "source": [
    "updatedW = torch.zeros(2,3)\n",
    "updatedB = torch.zeros(2)\n",
    "\n",
    "for i in updatedParams:\n",
    "    updatedW+=i[0]\n",
    "for i in updatedParams:\n",
    "    updatedB+=i[1]\n",
    "    \n",
    "updatedW/=5.0\n",
    "updatedB/=5.0\n",
    "\n",
    "updatedW, updatedB"
   ]
  },
  {
   "cell_type": "code",
   "execution_count": null,
   "metadata": {},
   "outputs": [],
   "source": [
    "# updatedWts = (updatedParams[0][0]+updatedParams[1][0]+updatedParams[2][0]+updatedParams[3][0]+updatedParams[4][0])/5.0\n",
    "# updatedBias = (updatedParams[0][1]+updatedParams[1][1]+updatedParams[2][1]+updatedParams[3][1]+updatedParams[4][1])/5.0\n",
    "# updatedWts, updatedBias"
   ]
  },
  {
   "cell_type": "code",
   "execution_count": null,
   "metadata": {},
   "outputs": [],
   "source": []
  }
 ],
 "metadata": {
  "kernelspec": {
   "display_name": "Python 3",
   "language": "python",
   "name": "python3"
  },
  "language_info": {
   "codemirror_mode": {
    "name": "ipython",
    "version": 3
   },
   "file_extension": ".py",
   "mimetype": "text/x-python",
   "name": "python",
   "nbconvert_exporter": "python",
   "pygments_lexer": "ipython3",
   "version": "3.5.2"
  }
 },
 "nbformat": 4,
 "nbformat_minor": 2
}
