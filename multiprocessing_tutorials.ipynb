{
 "cells": [
  {
   "cell_type": "markdown",
   "metadata": {},
   "source": [
    "## Multiprocessing"
   ]
  },
  {
   "cell_type": "markdown",
   "metadata": {},
   "source": [
    "$\\textbf{Borrowed from}$ \n",
    "\n",
    "$ \\textit{codebasics}$<br>\n",
    "https://www.youtube.com/playlist?list=PLeo1K3hjS3uub3PRhdoCTY8BxMKSW7RjN"
   ]
  },
  {
   "cell_type": "code",
   "execution_count": 2,
   "metadata": {},
   "outputs": [],
   "source": [
    "import time\n",
    "import multiprocessing"
   ]
  },
  {
   "cell_type": "markdown",
   "metadata": {},
   "source": [
    "### Snippet 1  <br>$\\textit{Hello World}$"
   ]
  },
  {
   "cell_type": "code",
   "execution_count": 104,
   "metadata": {},
   "outputs": [
    {
     "name": "stdout",
     "output_type": "stream",
     "text": [
      "s s s s s \n",
      "c c c c c \n",
      "Done\n"
     ]
    }
   ],
   "source": [
    "arr = [i for i in range(5)]\n",
    "def getSquare(x):\n",
    "    for i in x:\n",
    "        time.sleep(2)\n",
    "        print('', end='s ')\n",
    "    print()\n",
    "    \n",
    "    \n",
    "def getCube(x):\n",
    "    for i in x:\n",
    "        time.sleep(3)\n",
    "        print('', end='c ')\n",
    "    print()\n",
    "    \n",
    "p1 = multiprocessing.Process(target = getSquare, args = (arr,))\n",
    "p2 = multiprocessing.Process(target = getCube, args = (arr,))\n",
    "\n",
    "p1.start()\n",
    "p2.start()\n",
    "\n",
    "\n",
    "p1.join()\n",
    "p2.join()\n",
    "\n",
    "print('Done')"
   ]
  },
  {
   "cell_type": "markdown",
   "metadata": {},
   "source": [
    "### Snippet 2 <br>$\\textit{Shortcoming of global variables}$"
   ]
  },
  {
   "cell_type": "code",
   "execution_count": 107,
   "metadata": {},
   "outputs": [
    {
     "name": "stdout",
     "output_type": "stream",
     "text": [
      "[]\n"
     ]
    }
   ],
   "source": [
    "square_result = []\n",
    "arr = [i for i in range(5)]\n",
    "def getSquare(x):\n",
    "    global square_result\n",
    "    for i in x:\n",
    "        square_result.append(i*i)\n",
    "    \n",
    "    \n",
    "    \n",
    "p1 = multiprocessing.Process(target = getSquare, args = (arr,))\n",
    "\n",
    "p1.start()\n",
    "p1.join()\n",
    "\n",
    "print(square_result)\n",
    "#Global variables are not shared amongst processes"
   ]
  },
  {
   "cell_type": "markdown",
   "metadata": {},
   "source": [
    "### Snippet 3 <br>$\\textit{Array}$"
   ]
  },
  {
   "cell_type": "code",
   "execution_count": 108,
   "metadata": {},
   "outputs": [
    {
     "name": "stdout",
     "output_type": "stream",
     "text": [
      "[0, 1, 4, 9, 16]\n"
     ]
    }
   ],
   "source": [
    "#Array as shared variable\n",
    "square_result = multiprocessing.Array('i',5) #Here i stands for integer. For double it is d\n",
    "arr = [i for i in range(5)]\n",
    "\n",
    "def getSquare(x, square_result):\n",
    "    for idx, item in enumerate(x):\n",
    "        square_result[idx] = item**2\n",
    "    \n",
    "    \n",
    "    \n",
    "p1 = multiprocessing.Process(target = getSquare, args = (arr, square_result))\n",
    "p1.start()\n",
    "p1.join()\n",
    "\n",
    "\n",
    "print(square_result[:])"
   ]
  },
  {
   "cell_type": "markdown",
   "metadata": {},
   "source": [
    "### Snippet 4 <br>$\\textit{Value}$"
   ]
  },
  {
   "cell_type": "code",
   "execution_count": 7,
   "metadata": {},
   "outputs": [
    {
     "name": "stdout",
     "output_type": "stream",
     "text": [
      "30.5\n"
     ]
    }
   ],
   "source": [
    "#Value as shared Variable\n",
    "val = multiprocessing.Value('d',0.5)\n",
    "arr = [i for i in range(5)]\n",
    "\n",
    "def getSquare(x, val):\n",
    "    for item in x:\n",
    "        val.value+=(item**2)\n",
    "    \n",
    "    \n",
    "    \n",
    "p1 = multiprocessing.Process(target = getSquare, args = (arr, val))\n",
    "p1.start()\n",
    "p1.join()\n",
    "\n",
    "\n",
    "print(val.value)"
   ]
  },
  {
   "cell_type": "markdown",
   "metadata": {},
   "source": [
    "### Snippet 5 <br>$\\textit{Queue}$"
   ]
  },
  {
   "cell_type": "code",
   "execution_count": 34,
   "metadata": {},
   "outputs": [
    {
     "name": "stdout",
     "output_type": "stream",
     "text": [
      "s c s s c s c s c c "
     ]
    }
   ],
   "source": [
    "#Queue as shared Variable\n",
    "# q = multiprocessing.Queue()\n",
    "arr = [i for i in range(5)]\n",
    "\n",
    "def getSquare(x, q):\n",
    "    for item in x:\n",
    "        time.sleep(2)\n",
    "        q.put('s')\n",
    "    \n",
    "def getCube(x, q):\n",
    "    for item in x:\n",
    "        time.sleep(3)\n",
    "        q.put('c')\n",
    "        \n",
    "#The time intervals have been chosen and are not random\n",
    "    \n",
    "p1 = multiprocessing.Process(target = getSquare, args = (arr, q))\n",
    "p2 = multiprocessing.Process(target = getCube, args = (arr, q))\n",
    "p1.start()\n",
    "p2.start()\n",
    "\n",
    "p1.join()\n",
    "p2.join()\n",
    "\n",
    "\n",
    "\n",
    "while q.empty() is False:\n",
    "    print(q.get(),end=' ')"
   ]
  },
  {
   "cell_type": "markdown",
   "metadata": {},
   "source": [
    "### Snippet 6  <br>$\\textit{Locks}$"
   ]
  },
  {
   "cell_type": "code",
   "execution_count": 105,
   "metadata": {},
   "outputs": [
    {
     "name": "stdout",
     "output_type": "stream",
     "text": [
      "200 200 200 200 200 200 200 200 200 200 200 199 200 200 200 200 200 200 199 200 "
     ]
    }
   ],
   "source": [
    "#Without lock\n",
    "def deposit(balance):\n",
    "    for i in range(100):\n",
    "        time.sleep(0.01)\n",
    "        balance.value+=1\n",
    "        \n",
    "def withdraw(balance):\n",
    "    for i in range(100):\n",
    "        time.sleep(0.02)\n",
    "        balance.value-=1\n",
    "        \n",
    "\n",
    "\n",
    "for i in range(20):\n",
    "    balance = multiprocessing.Value('i',200)\n",
    "    d = multiprocessing.Process(target = deposit, args = (balance,))\n",
    "    w = multiprocessing.Process(target = withdraw, args = (balance,))\n",
    "    d.start()\n",
    "    w.start()\n",
    "    d.join()\n",
    "    w.join()\n",
    "    \n",
    "    print(balance.value, end=' ')"
   ]
  },
  {
   "cell_type": "code",
   "execution_count": 56,
   "metadata": {},
   "outputs": [
    {
     "name": "stdout",
     "output_type": "stream",
     "text": [
      "200 200 200 200 200 200 200 200 200 200 200 200 200 200 200 200 200 200 200 200 "
     ]
    }
   ],
   "source": [
    "#With lock\n",
    "def deposit(balance, lock):\n",
    "    for i in range(100):\n",
    "        time.sleep(0.01)\n",
    "        lock.acquire()\n",
    "        balance.value+=1\n",
    "        lock.release()\n",
    "        \n",
    "def withdraw(balance, lock):\n",
    "    for i in range(100):\n",
    "        time.sleep(0.01)\n",
    "        lock.acquire()\n",
    "        balance.value-=1\n",
    "        lock.release()\n",
    "        \n",
    "\n",
    "for i in range(20):\n",
    "    balance = multiprocessing.Value('i',200)\n",
    "    lock = multiprocessing.Lock()\n",
    "    d = multiprocessing.Process(target = deposit, args = (balance, lock))\n",
    "    w = multiprocessing.Process(target = withdraw, args = (balance, lock))\n",
    "    d.start()\n",
    "    w.start()\n",
    "    w.join()\n",
    "    d.join()\n",
    "    print(balance.value,end=' ')"
   ]
  },
  {
   "cell_type": "markdown",
   "metadata": {},
   "source": [
    "### Snippet 6 <br>$\\textit{Divide among cores}$"
   ]
  },
  {
   "cell_type": "code",
   "execution_count": null,
   "metadata": {},
   "outputs": [],
   "source": [
    "from multiprocessing import Pool"
   ]
  },
  {
   "cell_type": "code",
   "execution_count": 91,
   "metadata": {},
   "outputs": [
    {
     "name": "stdout",
     "output_type": "stream",
     "text": [
      "[0, 1, 4, 9, 16]\n"
     ]
    }
   ],
   "source": [
    "def f(n):\n",
    "    return n**2\n",
    "\n",
    "p = Pool()\n",
    "\n",
    "a = time.time()\n",
    "result = p.map(f, range(5)) #This alone will divide the work among all available cores equally\n",
    "p.close()\n",
    "p.join()\n",
    "b = time.time() - a\n",
    "print(result)"
   ]
  },
  {
   "cell_type": "code",
   "execution_count": 99,
   "metadata": {},
   "outputs": [
    {
     "name": "stdout",
     "output_type": "stream",
     "text": [
      "Time taken: 1.8142108917236328\n"
     ]
    }
   ],
   "source": [
    "def f(n):\n",
    "    sum = 0\n",
    "    for i in range(10000):\n",
    "        sum+=(i*i)\n",
    "    \n",
    "\n",
    "p = Pool()\n",
    "\n",
    "a = time.time()\n",
    "result = p.map(f, range(10000)) #This alone will divide the work among all available cores equally\n",
    "p.close()\n",
    "p.join()\n",
    "b = time.time() - a\n",
    "print('Time taken: {}'.format(b))\n"
   ]
  },
  {
   "cell_type": "code",
   "execution_count": 101,
   "metadata": {},
   "outputs": [
    {
     "name": "stdout",
     "output_type": "stream",
     "text": [
      "Time taken: 10.611477613449097\n"
     ]
    }
   ],
   "source": [
    "a = time.time()\n",
    "for i in range(10000):\n",
    "    sum = 0\n",
    "    for j in range(10000):\n",
    "        sum+=(j*j)\n",
    "\n",
    "b = time.time()- a\n",
    "print('Time taken: {}'.format(b))\n",
    "\n",
    "\n",
    "\n"
   ]
  },
  {
   "cell_type": "markdown",
   "metadata": {},
   "source": [
    "Number of cores"
   ]
  },
  {
   "cell_type": "code",
   "execution_count": 66,
   "metadata": {},
   "outputs": [
    {
     "data": {
      "text/plain": [
       "8"
      ]
     },
     "execution_count": 66,
     "metadata": {},
     "output_type": "execute_result"
    }
   ],
   "source": [
    "multiprocessing.cpu_count()"
   ]
  }
 ],
 "metadata": {
  "kernelspec": {
   "display_name": "Python 3",
   "language": "python",
   "name": "python3"
  },
  "language_info": {
   "codemirror_mode": {
    "name": "ipython",
    "version": 3
   },
   "file_extension": ".py",
   "mimetype": "text/x-python",
   "name": "python",
   "nbconvert_exporter": "python",
   "pygments_lexer": "ipython3",
   "version": "3.6.9"
  }
 },
 "nbformat": 4,
 "nbformat_minor": 4
}
